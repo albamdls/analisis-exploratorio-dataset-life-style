{
 "cells": [
  {
   "cell_type": "markdown",
   "id": "ba65927d",
   "metadata": {},
   "source": [
    "# 🔎 Análisis exploratorio: 🏃🏻‍➡️ Life Style Data \n",
    "\n",
    "## 1️⃣ **Entender el contexto del proyecto**\n",
    "\n",
    "El análisis exploratorio que se va a realizar es sobre el dataset **Life Style Data**, el cuál puedes encontrar en el siguiente enlace:\n",
    "🔗[https://www.kaggle.com/datasets/jockeroika/life-style-data](https://www.kaggle.com/datasets/jockeroika/life-style-data)\n",
    "\n",
    "---\n",
    "\n",
    "### 🎯 **Objetivo del análisis**\n",
    "\n",
    "El propósito de este análisis es **explorar y comprender cómo los hábitos de vida, la alimentación y la actividad física influyen en distintos indicadores de salud y rendimiento físico**.  \n",
    "\n",
    "A través de un análisis exploratorio detallado, se pretende:\n",
    "- Identificar patrones generales en los datos relacionados con el estilo de vida de los participantes.  \n",
    "- Evaluar la relación entre variables como la frecuencia de ejercicio, la dieta, el IMC y el consumo calórico.  \n",
    "- Detectar posibles valores atípicos o inconsistencias en los datos que puedan afectar el modelado posterior.  \n",
    "- Preparar el dataset para aplicar modelos predictivos que permitan **estimar indicadores de salud o rendimiento físico** (por ejemplo, las calorías quemadas o el porcentaje de grasa corporal).  \n",
    "\n",
    "Además, en etapas posteriores se implementarán técnicas de **regresión lineal (simple y múltiple)**, **regularización (Ridge y Lasso)**, y **modelos de aprendizaje automático basados en árboles de decisión y ensambles (Random Forest y Gradient Boosting)** para comparar su rendimiento y capacidad predictiva.\n",
    "\n",
    "En conjunto, este proyecto busca **extraer información útil y visualmente comprensible** sobre los factores que contribuyen a un estilo de vida saludable, apoyando la toma de decisiones y el diseño de rutinas personalizadas.\n",
    "\n",
    "---\n",
    "\n",
    "### 🧩 **Significado de las variables**\n",
    "\n",
    "| **Columna** | **Descripción** |\n",
    "|--------------|----------------|\n",
    "| `Age` | Edad del participante (en años). |\n",
    "| `Gender` | Género biológico (Masculino/Femenino). |\n",
    "| `Weight (kg)` | Peso del individuo en kilogramos. |\n",
    "| `Height (m)` | Altura del individuo en metros. |\n",
    "| `Max_BPM` | Frecuencia cardíaca máxima registrada durante una sesión de ejercicio. |\n",
    "| `Avg_BPM` | Frecuencia cardíaca promedio mantenida durante la sesión. |\n",
    "| `Resting_BPM` | Frecuencia cardíaca en reposo antes de iniciar el entrenamiento. |\n",
    "| `Session_Duration (hours)` | Duración de la sesión de ejercicio, en horas. |\n",
    "| `Calories_Burned` | Total de calorías quemadas durante la sesión. |\n",
    "| `Workout_Type` | Tipo de entrenamiento realizado (por ejemplo: fuerza, HIIT, cardio). |\n",
    "| `Fat_Percentage` | Porcentaje de grasa corporal del individuo. |\n",
    "| `Water_Intake (liters)` | Promedio diario de consumo de agua, en litros. |\n",
    "| `Workout_Frequency (days/week)` | Número de días de entrenamiento por semana. |\n",
    "| `Experience_Level` | Nivel de experiencia física (1 = Principiante, 2 = Intermedio, 3 = Avanzado). |\n",
    "| `BMI` | Índice de Masa Corporal (IMC), medida de grasa corporal basada en peso y altura. |\n",
    "| `Daily meals frequency` | Número de comidas consumidas diariamente. |\n",
    "| `Physical exercise` | Indica el tipo o la frecuencia de la actividad física realizada. |\n",
    "| `Carbs` | Consumo diario de carbohidratos (en gramos). |\n",
    "| `Proteins` | Consumo diario de proteínas (en gramos). |\n",
    "| `Fats` | Consumo diario de grasas (en gramos). |\n",
    "| `Calories` | Total de calorías ingeridas a través de la alimentación diaria. |\n",
    "| `meal_name` | Nombre de la comida (por ejemplo: desayuno, almuerzo, cena). |\n",
    "| `meal_type` | Tipo de comida (por ejemplo: snack, plato principal, bebida). |\n",
    "| `diet_type` | Tipo de dieta seguida (por ejemplo: cetogénica, vegana, equilibrada). |\n",
    "| `sugar_g` | Contenido de azúcar en gramos por comida. |\n",
    "| `sodium_mg` | Contenido de sodio en miligramos por comida. |\n",
    "| `cholesterol_mg` | Contenido de colesterol en miligramos por comida. |\n",
    "| `serving_size_g` | Tamaño de la porción del alimento en gramos. |\n",
    "| `cooking_method` | Método de cocción utilizado (por ejemplo: hervido, frito, a la parrilla). |\n",
    "| `prep_time_min` | Tiempo de preparación de la comida, en minutos. |\n",
    "| `cook_time_min` | Tiempo de cocción de la comida, en minutos. |\n",
    "| `rating` | Valoración de la comida o entrenamiento (escala de 1 a 5). |\n",
    "| `Name of Exercise` | Nombre del ejercicio realizado. |\n",
    "| `Sets` | Número de series completadas en el ejercicio. |\n",
    "| `Reps` | Número de repeticiones por serie. |\n",
    "| `Benefit` | Descripción del beneficio físico del ejercicio. |\n",
    "| `Burns Calories (per 30 min)` | Calorías estimadas que se queman en 30 minutos de ese ejercicio. |\n",
    "| `Target Muscle Group` | Grupo muscular principal trabajado en el ejercicio. |\n",
    "| `Equipment Needed` | Equipamiento necesario para realizar el ejercicio. |\n",
    "| `Difficulty Level` | Nivel de dificultad del ejercicio (Principiante, Intermedio, Avanzado). |\n",
    "| `Body Part` | Parte del cuerpo principalmente involucrada (por ejemplo: brazos, piernas, pecho). |\n",
    "| `Type of Muscle` | Tipo de músculo implicado (por ejemplo: superior, core, fuerza de agarre). |\n",
    "| `Workout` | Nombre específico del entrenamiento o ejercicio. |\n",
    "\n",
    "---\n",
    "\n",
    "🗒️ *Fuente de los datos: Kaggle - Global Coffee Health Dataset (2024)*  \n",
    "\n",
    "---"
   ]
  },
  {
   "cell_type": "markdown",
   "id": "a83b8a24",
   "metadata": {},
   "source": [
    "Lo primero de todo, será importar todas las librerías que vayamos a usar para realizar el análisis"
   ]
  },
  {
   "cell_type": "code",
   "execution_count": 1,
   "id": "7b648fa5",
   "metadata": {},
   "outputs": [],
   "source": [
    "import pandas as pd          # manejo de datos (tablas)\n",
    "import numpy as np           # operaciones numéricas\n",
    "import matplotlib.pyplot as plt  # gráficos\n",
    "import seaborn as sns        # gráficos más bonitos\n",
    "from sklearn.model_selection import train_test_split, cross_val_score, GridSearchCV\n",
    "from sklearn.linear_model import LinearRegression, Ridge, Lasso\n",
    "from sklearn.preprocessing import StandardScaler\n",
    "from sklearn.tree import DecisionTreeRegressor, plot_tree\n",
    "from sklearn.metrics import mean_squared_error, mean_absolute_error, r2_score"
   ]
  },
  {
   "cell_type": "markdown",
   "id": "68470727",
   "metadata": {},
   "source": [
    "## 2️⃣ **Análisis descriptivo inicial**\n",
    "\n",
    "Antes de comenzar con el análisis y la limpieza de datos, realizamos un **análisis descriptivo inicial** del dataset con el objetivo de conocer su estructura, tamaño y el tipo de información que contiene.\n",
    "\n",
    "Este paso nos permite identificar el número de registros disponibles, las columnas existentes y obtener una primera impresión sobre la distribución general de los datos."
   ]
  },
  {
   "cell_type": "code",
   "execution_count": 2,
   "id": "a19fb893",
   "metadata": {},
   "outputs": [],
   "source": [
    "# Cargar el dataset\n",
    "df = pd.read_csv(\"data/life_style_data.csv\")"
   ]
  },
  {
   "cell_type": "markdown",
   "id": "e9aecef8",
   "metadata": {},
   "source": [
    "Mostraremos la cantidad total de filas de nuestro dataset y todas las columnas que contiene para hacernos una idea de los datos que tenemos"
   ]
  },
  {
   "cell_type": "code",
   "execution_count": 3,
   "id": "d1124b11",
   "metadata": {},
   "outputs": [
    {
     "name": "stdout",
     "output_type": "stream",
     "text": [
      "🌍 Total de filas del dataset: 20000\n",
      "------------------------------------------------------------------------------\n",
      "Index(['Age', 'Gender', 'Weight (kg)', 'Height (m)', 'Max_BPM', 'Avg_BPM',\n",
      "       'Resting_BPM', 'Session_Duration (hours)', 'Calories_Burned',\n",
      "       'Workout_Type', 'Fat_Percentage', 'Water_Intake (liters)',\n",
      "       'Workout_Frequency (days/week)', 'Experience_Level', 'BMI',\n",
      "       'Daily meals frequency', 'Physical exercise', 'Carbs', 'Proteins',\n",
      "       'Fats', 'Calories', 'meal_name', 'meal_type', 'diet_type', 'sugar_g',\n",
      "       'sodium_mg', 'cholesterol_mg', 'serving_size_g', 'cooking_method',\n",
      "       'prep_time_min', 'cook_time_min', 'rating', 'Name of Exercise', 'Sets',\n",
      "       'Reps', 'Benefit', 'Burns Calories (per 30 min)', 'Target Muscle Group',\n",
      "       'Equipment Needed', 'Difficulty Level', 'Body Part', 'Type of Muscle',\n",
      "       'Workout', 'BMI_calc', 'cal_from_macros', 'pct_carbs', 'protein_per_kg',\n",
      "       'pct_HRR', 'pct_maxHR', 'cal_balance', 'lean_mass_kg', 'expected_burn',\n",
      "       'Burns Calories (per 30 min)_bc', 'Burns_Calories_Bin'],\n",
      "      dtype='object')\n"
     ]
    }
   ],
   "source": [
    "# Mostrar la cantidad total de filas y columnas del dataset\n",
    "print(f\"🌍 Total de filas del dataset: {len(df)}\\n------------------------------------------------------------------------------\")\n",
    "print(df.columns)"
   ]
  },
  {
   "cell_type": "markdown",
   "id": "90130fab",
   "metadata": {},
   "source": [
    "Mostramos también los datos que contienen las primeras 5 filas"
   ]
  },
  {
   "cell_type": "code",
   "execution_count": 4,
   "id": "3bd519c1",
   "metadata": {},
   "outputs": [
    {
     "name": "stdout",
     "output_type": "stream",
     "text": [
      "\n",
      "🔎 Primeras 5 filas del dataset:\n",
      "\n",
      "     Age  Gender  Weight (kg)  Height (m)  Max_BPM  Avg_BPM  Resting_BPM  \\\n",
      "0  34.91    Male        65.27        1.62   188.58   157.65        69.05   \n",
      "1  23.37  Female        56.41        1.55   179.43   131.75        73.18   \n",
      "2  33.20  Female        58.98        1.67   175.04   123.95        54.96   \n",
      "3  38.69  Female        93.78        1.70   191.21   155.10        50.07   \n",
      "4  45.09    Male        52.42        1.88   193.58   152.88        70.84   \n",
      "\n",
      "   Session_Duration (hours)  Calories_Burned Workout_Type  ...  \\\n",
      "0                      1.00          1080.90     Strength  ...   \n",
      "1                      1.37          1809.91         HIIT  ...   \n",
      "2                      0.91           802.26       Cardio  ...   \n",
      "3                      1.10          1450.79         HIIT  ...   \n",
      "4                      1.08          1166.40     Strength  ...   \n",
      "\n",
      "   cal_from_macros  pct_carbs  protein_per_kg   pct_HRR  pct_maxHR  \\\n",
      "0          2139.59   0.500432        1.624789  0.741237   0.835985   \n",
      "1          1711.65   0.500850        1.514093  0.551247   0.734270   \n",
      "2          1965.92   0.500610        1.663445  0.574534   0.708124   \n",
      "3          1627.28   0.499533        0.862017  0.744155   0.811150   \n",
      "4          2659.23   0.500581        2.538153  0.668405   0.789751   \n",
      "\n",
      "   cal_balance  lean_mass_kg  expected_burn  Burns Calories (per 30 min)_bc  \\\n",
      "0       725.10     47.777394       685.1600                    7.260425e+19   \n",
      "1      -232.91     40.809803       978.6184                    1.020506e+20   \n",
      "2       805.74     44.635580       654.5266                    1.079607e+20   \n",
      "3      1206.21     63.007432       773.6300                    8.987921e+19   \n",
      "4       303.60     43.347504       711.4176                    5.264685e+19   \n",
      "\n",
      "   Burns_Calories_Bin  \n",
      "0              Medium  \n",
      "1                High  \n",
      "2                High  \n",
      "3                High  \n",
      "4                 Low  \n",
      "\n",
      "[5 rows x 54 columns]\n"
     ]
    }
   ],
   "source": [
    "print(\"\\n🔎 Primeras 5 filas del dataset:\\n\")\n",
    "print(df.head())"
   ]
  },
  {
   "cell_type": "markdown",
   "id": "206466d9",
   "metadata": {},
   "source": [
    "Por último, mostramos las estadísticas básicas de cada columna (cantidad total de filas, mediana, mínimo, máximo, 25%, 50%, 70%)"
   ]
  },
  {
   "cell_type": "code",
   "execution_count": 5,
   "id": "97643df8",
   "metadata": {},
   "outputs": [
    {
     "name": "stdout",
     "output_type": "stream",
     "text": [
      "\n",
      "📊 Estadísticas descriptivas:\n",
      "\n",
      "                Age   Weight (kg)    Height (m)       Max_BPM       Avg_BPM  \\\n",
      "count  20000.000000  20000.000000  20000.000000  20000.000000  20000.000000   \n",
      "mean      38.851453     73.898832      1.723093    179.889702    143.704306   \n",
      "std       12.114580     21.173010      0.127033     11.510805     14.267688   \n",
      "min       18.000000     39.180000      1.490000    159.310000    119.070000   \n",
      "25%       28.170000     58.160000      1.620000    170.057500    131.220000   \n",
      "50%       39.865000     70.000000      1.710000    180.140000    142.990000   \n",
      "75%       49.630000     86.100000      1.800000    189.425000    156.060000   \n",
      "max       59.670000    130.770000      2.010000    199.640000    169.840000   \n",
      "\n",
      "        Resting_BPM  Session_Duration (hours)  Calories_Burned  \\\n",
      "count  20000.000000              20000.000000     20000.000000   \n",
      "mean      62.195813                  1.259446      1280.109600   \n",
      "std        7.289351                  0.341336       502.228982   \n",
      "min       49.490000                  0.490000       323.110000   \n",
      "25%       55.960000                  1.050000       910.800000   \n",
      "50%       62.200000                  1.270000      1231.450000   \n",
      "75%       68.090000                  1.460000      1553.112500   \n",
      "max       74.500000                  2.020000      2890.820000   \n",
      "\n",
      "       Fat_Percentage  Water_Intake (liters)  ...      BMI_calc  \\\n",
      "count    20000.000000           20000.000000  ...  20000.000000   \n",
      "mean        26.101313               2.627485  ...     24.921651   \n",
      "std          4.996160               0.604724  ...      6.701144   \n",
      "min         11.333134               1.460000  ...     12.037907   \n",
      "25%         22.387807               2.170000  ...     20.094975   \n",
      "50%         25.822504               2.610000  ...     24.119097   \n",
      "75%         29.676026               3.120000  ...     28.562620   \n",
      "max         35.000000               3.730000  ...     50.229544   \n",
      "\n",
      "       cal_from_macros     pct_carbs  protein_per_kg       pct_HRR  \\\n",
      "count     20000.000000  20000.000000    20000.000000  20000.000000   \n",
      "mean       1998.297076      0.499983        1.460142      0.699005   \n",
      "std         440.848408      0.001455        0.518946      0.144880   \n",
      "min        1105.570000      0.492434        0.516706      0.371344   \n",
      "25%        1661.022500      0.499054        1.076294      0.583656   \n",
      "50%        1943.130000      0.499981        1.382260      0.686284   \n",
      "75%        2271.950000      0.500910        1.750495      0.798196   \n",
      "max        3699.540000      0.507889        3.916881      1.073939   \n",
      "\n",
      "          pct_maxHR   cal_balance  lean_mass_kg  expected_burn  \\\n",
      "count  20000.000000  20000.000000  20000.000000   20000.000000   \n",
      "mean       0.802305    744.308699     53.786384     866.352318   \n",
      "std        0.096613    720.946619     12.498740     250.317069   \n",
      "min        0.599789  -1266.220000     30.946261     219.852800   \n",
      "25%        0.727676    261.432500     44.587037     714.098250   \n",
      "50%        0.794834    691.190000     51.204908     868.721400   \n",
      "75%        0.869211   1176.290000     61.939016    1012.532700   \n",
      "max        1.047032   3075.580000     90.117371    1477.108800   \n",
      "\n",
      "       Burns Calories (per 30 min)_bc  \n",
      "count                    2.000000e+04  \n",
      "mean                     8.631802e+19  \n",
      "std                      3.197579e+19  \n",
      "min                      2.491905e+16  \n",
      "25%                      6.441978e+19  \n",
      "50%                      8.371578e+19  \n",
      "75%                      1.100442e+20  \n",
      "max                      1.756614e+20  \n",
      "\n",
      "[8 rows x 39 columns]\n"
     ]
    }
   ],
   "source": [
    "print(\"\\n📊 Estadísticas descriptivas:\\n\")\n",
    "print(df.describe())"
   ]
  },
  {
   "cell_type": "markdown",
   "id": "a2fdc5ea",
   "metadata": {},
   "source": [
    "## 3️⃣ **Detección y tratamiento datos ausentes**\n",
    "\n",
    "Antes de proceder con el análisis exploratorio y la creación de nuevas variables, es fundamental **verificar la existencia de valores nulos o ausentes** en el dataset.  \n",
    "\n",
    "La presencia de datos faltantes puede afectar la precisión de los resultados, alterar las estadísticas descriptivas y comprometer el rendimiento de los modelos predictivos.  \n",
    "\n",
    "Por ello, en esta sección se realiza una revisión general para comprobar si existen columnas o registros con valores nulos que deban ser tratados o imputados."
   ]
  },
  {
   "cell_type": "code",
   "execution_count": 6,
   "id": "66cdbc56",
   "metadata": {},
   "outputs": [
    {
     "name": "stdout",
     "output_type": "stream",
     "text": [
      "Age                               0\n",
      "Gender                            0\n",
      "Weight (kg)                       0\n",
      "Height (m)                        0\n",
      "Max_BPM                           0\n",
      "Avg_BPM                           0\n",
      "Resting_BPM                       0\n",
      "Session_Duration (hours)          0\n",
      "Calories_Burned                   0\n",
      "Workout_Type                      0\n",
      "Fat_Percentage                    0\n",
      "Water_Intake (liters)             0\n",
      "Workout_Frequency (days/week)     0\n",
      "Experience_Level                  0\n",
      "BMI                               0\n",
      "Daily meals frequency             0\n",
      "Physical exercise                 0\n",
      "Carbs                             0\n",
      "Proteins                          0\n",
      "Fats                              0\n",
      "Calories                          0\n",
      "meal_name                         0\n",
      "meal_type                         0\n",
      "diet_type                         0\n",
      "sugar_g                           0\n",
      "sodium_mg                         0\n",
      "cholesterol_mg                    0\n",
      "serving_size_g                    0\n",
      "cooking_method                    0\n",
      "prep_time_min                     0\n",
      "cook_time_min                     0\n",
      "rating                            0\n",
      "Name of Exercise                  0\n",
      "Sets                              0\n",
      "Reps                              0\n",
      "Benefit                           0\n",
      "Burns Calories (per 30 min)       0\n",
      "Target Muscle Group               0\n",
      "Equipment Needed                  0\n",
      "Difficulty Level                  0\n",
      "Body Part                         0\n",
      "Type of Muscle                    0\n",
      "Workout                           0\n",
      "BMI_calc                          0\n",
      "cal_from_macros                   0\n",
      "pct_carbs                         0\n",
      "protein_per_kg                    0\n",
      "pct_HRR                           0\n",
      "pct_maxHR                         0\n",
      "cal_balance                       0\n",
      "lean_mass_kg                      0\n",
      "expected_burn                     0\n",
      "Burns Calories (per 30 min)_bc    0\n",
      "Burns_Calories_Bin                0\n",
      "dtype: int64\n"
     ]
    }
   ],
   "source": [
    "total_nulos = df.isnull().sum()\n",
    "print(total_nulos)"
   ]
  },
  {
   "cell_type": "markdown",
   "id": "280cafdc",
   "metadata": {},
   "source": [
    "Tras ejecutar el análisis, se observa que ninguna de las columnas contiene valores nulos.\n",
    "\n",
    "Esto indica que el dataset está completo y no requiere imputación ni eliminación de registros, por lo que se puede continuar con el análisis exploratorio sin necesidad de realizar tratamientos adicionales sobre los datos faltantes."
   ]
  },
  {
   "cell_type": "markdown",
   "id": "d1e424bf",
   "metadata": {},
   "source": [
    "## 4️⃣ **Revisar los tipos de las variables**\n",
    "\n",
    "Una vez verificada la integridad de los datos, el siguiente paso consiste en **revisar los tipos de las variables** para asegurarnos de que cada columna tenga el formato adecuado según el tipo de información que representa.\n",
    "\n",
    "Este proceso es fundamental para evitar errores en los cálculos posteriores y garantizar que las operaciones estadísticas o de modelado se apliquen correctamente.  "
   ]
  },
  {
   "cell_type": "code",
   "execution_count": 7,
   "id": "76952398",
   "metadata": {},
   "outputs": [
    {
     "name": "stdout",
     "output_type": "stream",
     "text": [
      "<class 'pandas.core.frame.DataFrame'>\n",
      "RangeIndex: 20000 entries, 0 to 19999\n",
      "Data columns (total 54 columns):\n",
      " #   Column                          Non-Null Count  Dtype  \n",
      "---  ------                          --------------  -----  \n",
      " 0   Age                             20000 non-null  float64\n",
      " 1   Gender                          20000 non-null  object \n",
      " 2   Weight (kg)                     20000 non-null  float64\n",
      " 3   Height (m)                      20000 non-null  float64\n",
      " 4   Max_BPM                         20000 non-null  float64\n",
      " 5   Avg_BPM                         20000 non-null  float64\n",
      " 6   Resting_BPM                     20000 non-null  float64\n",
      " 7   Session_Duration (hours)        20000 non-null  float64\n",
      " 8   Calories_Burned                 20000 non-null  float64\n",
      " 9   Workout_Type                    20000 non-null  object \n",
      " 10  Fat_Percentage                  20000 non-null  float64\n",
      " 11  Water_Intake (liters)           20000 non-null  float64\n",
      " 12  Workout_Frequency (days/week)   20000 non-null  float64\n",
      " 13  Experience_Level                20000 non-null  float64\n",
      " 14  BMI                             20000 non-null  float64\n",
      " 15  Daily meals frequency           20000 non-null  float64\n",
      " 16  Physical exercise               20000 non-null  float64\n",
      " 17  Carbs                           20000 non-null  float64\n",
      " 18  Proteins                        20000 non-null  float64\n",
      " 19  Fats                            20000 non-null  float64\n",
      " 20  Calories                        20000 non-null  float64\n",
      " 21  meal_name                       20000 non-null  object \n",
      " 22  meal_type                       20000 non-null  object \n",
      " 23  diet_type                       20000 non-null  object \n",
      " 24  sugar_g                         20000 non-null  float64\n",
      " 25  sodium_mg                       20000 non-null  float64\n",
      " 26  cholesterol_mg                  20000 non-null  float64\n",
      " 27  serving_size_g                  20000 non-null  float64\n",
      " 28  cooking_method                  20000 non-null  object \n",
      " 29  prep_time_min                   20000 non-null  float64\n",
      " 30  cook_time_min                   20000 non-null  float64\n",
      " 31  rating                          20000 non-null  float64\n",
      " 32  Name of Exercise                20000 non-null  object \n",
      " 33  Sets                            20000 non-null  float64\n",
      " 34  Reps                            20000 non-null  float64\n",
      " 35  Benefit                         20000 non-null  object \n",
      " 36  Burns Calories (per 30 min)     20000 non-null  float64\n",
      " 37  Target Muscle Group             20000 non-null  object \n",
      " 38  Equipment Needed                20000 non-null  object \n",
      " 39  Difficulty Level                20000 non-null  object \n",
      " 40  Body Part                       20000 non-null  object \n",
      " 41  Type of Muscle                  20000 non-null  object \n",
      " 42  Workout                         20000 non-null  object \n",
      " 43  BMI_calc                        20000 non-null  float64\n",
      " 44  cal_from_macros                 20000 non-null  float64\n",
      " 45  pct_carbs                       20000 non-null  float64\n",
      " 46  protein_per_kg                  20000 non-null  float64\n",
      " 47  pct_HRR                         20000 non-null  float64\n",
      " 48  pct_maxHR                       20000 non-null  float64\n",
      " 49  cal_balance                     20000 non-null  float64\n",
      " 50  lean_mass_kg                    20000 non-null  float64\n",
      " 51  expected_burn                   20000 non-null  float64\n",
      " 52  Burns Calories (per 30 min)_bc  20000 non-null  float64\n",
      " 53  Burns_Calories_Bin              20000 non-null  object \n",
      "dtypes: float64(39), object(15)\n",
      "memory usage: 8.2+ MB\n",
      "None\n"
     ]
    }
   ],
   "source": [
    "# Mostramos un resumen de los tipos de datos de cada columna\n",
    "print(df.info())"
   ]
  },
  {
   "cell_type": "markdown",
   "id": "9d81dc03",
   "metadata": {},
   "source": [
    "En este caso, hemos detectado algunas columnas que con formato decimal cuando deberían ser un número entero, por lo que convertiremos esas columnas para el correcto tratamiento de los datos.\n",
    "\n",
    "Las columnas que vamos a convertir a número entero son: Workout_Frequency, Experience_level y Daily meals frequency.\n",
    "\n",
    "El motivo para convertir estas columnas entero, son que, por ejemplo en el caso de `Workout_Frequency`, lo que representa es el número de días que la persona entrena por semana, no tiene sentido entrenar 3.6 días a la semana.\n",
    "\n",
    "Por otro lado, en el caso de `Experience_Level` lo que representa es el nivel de experiencia física (1 = Principiante, 2 = Intermedio, 3 = Avanzado), son etiquéticas numéricas, por lo que no tiene sentido que sean float."
   ]
  },
  {
   "cell_type": "code",
   "execution_count": 8,
   "id": "56d861f9",
   "metadata": {},
   "outputs": [
    {
     "data": {
      "application/vnd.microsoft.datawrangler.viewer.v0+json": {
       "columns": [
        {
         "name": "index",
         "rawType": "int64",
         "type": "integer"
        },
        {
         "name": "Age",
         "rawType": "float64",
         "type": "float"
        },
        {
         "name": "Gender",
         "rawType": "object",
         "type": "string"
        },
        {
         "name": "Weight (kg)",
         "rawType": "float64",
         "type": "float"
        },
        {
         "name": "Height (m)",
         "rawType": "float64",
         "type": "float"
        },
        {
         "name": "Max_BPM",
         "rawType": "float64",
         "type": "float"
        },
        {
         "name": "Avg_BPM",
         "rawType": "float64",
         "type": "float"
        },
        {
         "name": "Resting_BPM",
         "rawType": "float64",
         "type": "float"
        },
        {
         "name": "Session_Duration (hours)",
         "rawType": "float64",
         "type": "float"
        },
        {
         "name": "Calories_Burned",
         "rawType": "float64",
         "type": "float"
        },
        {
         "name": "Workout_Type",
         "rawType": "object",
         "type": "string"
        },
        {
         "name": "Fat_Percentage",
         "rawType": "float64",
         "type": "float"
        },
        {
         "name": "Water_Intake (liters)",
         "rawType": "float64",
         "type": "float"
        },
        {
         "name": "Workout_Frequency (days/week)",
         "rawType": "float64",
         "type": "float"
        },
        {
         "name": "Experience_Level",
         "rawType": "int64",
         "type": "integer"
        },
        {
         "name": "BMI",
         "rawType": "float64",
         "type": "float"
        },
        {
         "name": "Daily meals frequency",
         "rawType": "float64",
         "type": "float"
        },
        {
         "name": "Physical exercise",
         "rawType": "float64",
         "type": "float"
        },
        {
         "name": "Carbs",
         "rawType": "float64",
         "type": "float"
        },
        {
         "name": "Proteins",
         "rawType": "float64",
         "type": "float"
        },
        {
         "name": "Fats",
         "rawType": "float64",
         "type": "float"
        },
        {
         "name": "Calories",
         "rawType": "float64",
         "type": "float"
        },
        {
         "name": "meal_name",
         "rawType": "object",
         "type": "string"
        },
        {
         "name": "meal_type",
         "rawType": "object",
         "type": "string"
        },
        {
         "name": "diet_type",
         "rawType": "object",
         "type": "string"
        },
        {
         "name": "sugar_g",
         "rawType": "float64",
         "type": "float"
        },
        {
         "name": "sodium_mg",
         "rawType": "float64",
         "type": "float"
        },
        {
         "name": "cholesterol_mg",
         "rawType": "float64",
         "type": "float"
        },
        {
         "name": "serving_size_g",
         "rawType": "float64",
         "type": "float"
        },
        {
         "name": "cooking_method",
         "rawType": "object",
         "type": "string"
        },
        {
         "name": "prep_time_min",
         "rawType": "float64",
         "type": "float"
        },
        {
         "name": "cook_time_min",
         "rawType": "float64",
         "type": "float"
        },
        {
         "name": "rating",
         "rawType": "float64",
         "type": "float"
        },
        {
         "name": "Name of Exercise",
         "rawType": "object",
         "type": "string"
        },
        {
         "name": "Sets",
         "rawType": "float64",
         "type": "float"
        },
        {
         "name": "Reps",
         "rawType": "float64",
         "type": "float"
        },
        {
         "name": "Benefit",
         "rawType": "object",
         "type": "string"
        },
        {
         "name": "Burns Calories (per 30 min)",
         "rawType": "float64",
         "type": "float"
        },
        {
         "name": "Target Muscle Group",
         "rawType": "object",
         "type": "string"
        },
        {
         "name": "Equipment Needed",
         "rawType": "object",
         "type": "string"
        },
        {
         "name": "Difficulty Level",
         "rawType": "object",
         "type": "string"
        },
        {
         "name": "Body Part",
         "rawType": "object",
         "type": "string"
        },
        {
         "name": "Type of Muscle",
         "rawType": "object",
         "type": "string"
        },
        {
         "name": "Workout",
         "rawType": "object",
         "type": "string"
        },
        {
         "name": "BMI_calc",
         "rawType": "float64",
         "type": "float"
        },
        {
         "name": "cal_from_macros",
         "rawType": "float64",
         "type": "float"
        },
        {
         "name": "pct_carbs",
         "rawType": "float64",
         "type": "float"
        },
        {
         "name": "protein_per_kg",
         "rawType": "float64",
         "type": "float"
        },
        {
         "name": "pct_HRR",
         "rawType": "float64",
         "type": "float"
        },
        {
         "name": "pct_maxHR",
         "rawType": "float64",
         "type": "float"
        },
        {
         "name": "cal_balance",
         "rawType": "float64",
         "type": "float"
        },
        {
         "name": "lean_mass_kg",
         "rawType": "float64",
         "type": "float"
        },
        {
         "name": "expected_burn",
         "rawType": "float64",
         "type": "float"
        },
        {
         "name": "Burns Calories (per 30 min)_bc",
         "rawType": "float64",
         "type": "float"
        },
        {
         "name": "Burns_Calories_Bin",
         "rawType": "object",
         "type": "string"
        },
        {
         "name": "Workout_Frequency",
         "rawType": "int64",
         "type": "integer"
        }
       ],
       "ref": "acf217e3-cfc3-4289-9546-15a4c240fd53",
       "rows": [
        [
         "0",
         "34.91",
         "Male",
         "65.27",
         "1.62",
         "188.58",
         "157.65",
         "69.05",
         "1.0",
         "1080.9",
         "Strength",
         "26.800377179186803",
         "1.5",
         "3.99",
         "2",
         "24.87",
         "2.99",
         "0.01",
         "267.68",
         "106.05",
         "71.63",
         "1806.0",
         "Other",
         "Lunch",
         "Vegan",
         "31.77",
         "1729.94",
         "285.05",
         "120.47",
         "Grilled",
         "16.24",
         "110.79",
         "1.31",
         "Decline Push-ups",
         "4.99",
         "20.91",
         "Improves shoulder health and posture",
         "342.58",
         "Shoulders, Triceps",
         "Cable Machine",
         "Advanced",
         "Legs",
         "Lats",
         "Dumbbell flyes",
         "24.8704465782655",
         "2139.59",
         "0.5004323258194326",
         "1.624789336601808",
         "0.7412365096628462",
         "0.8359847279669106",
         "725.0999999999999",
         "47.77739381514478",
         "685.16",
         "7.260425438142023e+19",
         "Medium",
         "3"
        ],
        [
         "1",
         "23.37",
         "Female",
         "56.41",
         "1.55",
         "179.43",
         "131.75",
         "73.18",
         "1.37",
         "1809.91",
         "HIIT",
         "27.65502094955822",
         "1.9",
         "4.0",
         "2",
         "23.48",
         "3.01",
         "0.97",
         "214.32",
         "85.41",
         "56.97",
         "1577.0",
         "Other",
         "Lunch",
         "Vegetarian",
         "12.34",
         "693.08",
         "300.61",
         "109.15",
         "Fried",
         "16.47",
         "12.01",
         "1.92",
         "Bear Crawls",
         "4.01",
         "16.15",
         "Strengthens lower abs",
         "357.16",
         "Back, Core, Shoulders",
         "Step or Box",
         "Intermediate",
         "Chest",
         "Lats",
         "Lateral raises",
         "23.479708636836623",
         "1711.65",
         "0.5008500569625799",
         "1.5140932458783904",
         "0.5512470588235293",
         "0.7342696316112133",
         "-232.91000000000008",
         "40.8098026823542",
         "978.6184000000002",
         "1.02050570044361e+20",
         "High",
         "4"
        ],
        [
         "2",
         "33.2",
         "Female",
         "58.98",
         "1.67",
         "175.04",
         "123.95",
         "54.96",
         "0.91",
         "802.26",
         "Cardio",
         "24.32082112410528",
         "1.88",
         "2.99",
         "1",
         "21.15",
         "1.99",
         "-0.02",
         "246.04",
         "98.11",
         "65.48",
         "1608.0",
         "Other",
         "Breakfast",
         "Paleo",
         "42.81",
         "2142.48",
         "215.42",
         "399.43",
         "Boiled",
         "54.35",
         "6.09",
         "4.7",
         "Dips",
         "5.0",
         "21.9",
         "Builds chest strength",
         "359.63",
         "Quadriceps, Glutes",
         "Step or Box",
         "Intermediate",
         "Arms",
         "Grip Strength",
         "Standing calf raises",
         "21.148122915844954",
         "1965.92",
         "0.5006104012370798",
         "1.6634452356731095",
         "0.5745336442371753",
         "0.708123857404022",
         "805.74",
         "44.63557970100271",
         "654.5266",
         "1.0796070881410969e+20",
         "High",
         "2"
        ],
        [
         "3",
         "38.69",
         "Female",
         "93.78",
         "1.7",
         "191.21",
         "155.1",
         "50.07",
         "1.1",
         "1450.79",
         "HIIT",
         "32.81357178608907",
         "2.5",
         "3.99",
         "1",
         "32.45",
         "3.0",
         "0.04",
         "203.22",
         "80.84",
         "54.56",
         "2657.0",
         "Other",
         "Lunch",
         "Paleo",
         "9.34",
         "123.2",
         "9.7",
         "314.31",
         "Fried",
         "27.73",
         "103.72",
         "4.85",
         "Mountain Climbers",
         "4.01",
         "16.92",
         "Improves coordination and cardiovascular health",
         "351.65",
         "Biceps, Forearms",
         "Parallel Bars or Chair",
         "Advanced",
         "Shoulders",
         "Upper",
         "Incline dumbbell flyes",
         "32.44982698961938",
         "1627.28",
         "0.499532962981171",
         "0.8620174877372574",
         "0.7441547399744933",
         "0.811150044453742",
         "1206.21",
         "63.00743237900567",
         "773.63",
         "8.987921156899057e+19",
         "High",
         "3"
        ],
        [
         "4",
         "45.09",
         "Male",
         "52.42",
         "1.88",
         "193.58",
         "152.88",
         "70.84",
         "1.08",
         "1166.4",
         "Strength",
         "17.307318603384633",
         "2.91",
         "4.0",
         "2",
         "14.83",
         "3.0",
         "3.0",
         "332.79",
         "133.05",
         "88.43",
         "1470.0",
         "Other",
         "Breakfast",
         "Vegan",
         "23.78",
         "1935.11",
         "116.89",
         "99.22",
         "Baked",
         "34.16",
         "46.55",
         "3.07",
         "Bicep Curls",
         "4.99",
         "15.01",
         "Targets obliques and improves core rotation",
         "329.36",
         "Chest, Triceps",
         "Wall",
         "Advanced",
         "Abs",
         "Wrist Flexors",
         "Military press",
         "14.831371661385244",
         "2659.2300000000005",
         "0.5005809952505048",
         "2.538153376573827",
         "0.6684047580250936",
         "0.7897510073354684",
         "303.5999999999999",
         "43.34750358810577",
         "711.4176000000001",
         "5.264684819918977e+19",
         "Low",
         "4"
        ]
       ],
       "shape": {
        "columns": 55,
        "rows": 5
       }
      },
      "text/html": [
       "<div>\n",
       "<style scoped>\n",
       "    .dataframe tbody tr th:only-of-type {\n",
       "        vertical-align: middle;\n",
       "    }\n",
       "\n",
       "    .dataframe tbody tr th {\n",
       "        vertical-align: top;\n",
       "    }\n",
       "\n",
       "    .dataframe thead th {\n",
       "        text-align: right;\n",
       "    }\n",
       "</style>\n",
       "<table border=\"1\" class=\"dataframe\">\n",
       "  <thead>\n",
       "    <tr style=\"text-align: right;\">\n",
       "      <th></th>\n",
       "      <th>Age</th>\n",
       "      <th>Gender</th>\n",
       "      <th>Weight (kg)</th>\n",
       "      <th>Height (m)</th>\n",
       "      <th>Max_BPM</th>\n",
       "      <th>Avg_BPM</th>\n",
       "      <th>Resting_BPM</th>\n",
       "      <th>Session_Duration (hours)</th>\n",
       "      <th>Calories_Burned</th>\n",
       "      <th>Workout_Type</th>\n",
       "      <th>...</th>\n",
       "      <th>pct_carbs</th>\n",
       "      <th>protein_per_kg</th>\n",
       "      <th>pct_HRR</th>\n",
       "      <th>pct_maxHR</th>\n",
       "      <th>cal_balance</th>\n",
       "      <th>lean_mass_kg</th>\n",
       "      <th>expected_burn</th>\n",
       "      <th>Burns Calories (per 30 min)_bc</th>\n",
       "      <th>Burns_Calories_Bin</th>\n",
       "      <th>Workout_Frequency</th>\n",
       "    </tr>\n",
       "  </thead>\n",
       "  <tbody>\n",
       "    <tr>\n",
       "      <th>0</th>\n",
       "      <td>34.91</td>\n",
       "      <td>Male</td>\n",
       "      <td>65.27</td>\n",
       "      <td>1.62</td>\n",
       "      <td>188.58</td>\n",
       "      <td>157.65</td>\n",
       "      <td>69.05</td>\n",
       "      <td>1.00</td>\n",
       "      <td>1080.90</td>\n",
       "      <td>Strength</td>\n",
       "      <td>...</td>\n",
       "      <td>0.500432</td>\n",
       "      <td>1.624789</td>\n",
       "      <td>0.741237</td>\n",
       "      <td>0.835985</td>\n",
       "      <td>725.10</td>\n",
       "      <td>47.777394</td>\n",
       "      <td>685.1600</td>\n",
       "      <td>7.260425e+19</td>\n",
       "      <td>Medium</td>\n",
       "      <td>3</td>\n",
       "    </tr>\n",
       "    <tr>\n",
       "      <th>1</th>\n",
       "      <td>23.37</td>\n",
       "      <td>Female</td>\n",
       "      <td>56.41</td>\n",
       "      <td>1.55</td>\n",
       "      <td>179.43</td>\n",
       "      <td>131.75</td>\n",
       "      <td>73.18</td>\n",
       "      <td>1.37</td>\n",
       "      <td>1809.91</td>\n",
       "      <td>HIIT</td>\n",
       "      <td>...</td>\n",
       "      <td>0.500850</td>\n",
       "      <td>1.514093</td>\n",
       "      <td>0.551247</td>\n",
       "      <td>0.734270</td>\n",
       "      <td>-232.91</td>\n",
       "      <td>40.809803</td>\n",
       "      <td>978.6184</td>\n",
       "      <td>1.020506e+20</td>\n",
       "      <td>High</td>\n",
       "      <td>4</td>\n",
       "    </tr>\n",
       "    <tr>\n",
       "      <th>2</th>\n",
       "      <td>33.20</td>\n",
       "      <td>Female</td>\n",
       "      <td>58.98</td>\n",
       "      <td>1.67</td>\n",
       "      <td>175.04</td>\n",
       "      <td>123.95</td>\n",
       "      <td>54.96</td>\n",
       "      <td>0.91</td>\n",
       "      <td>802.26</td>\n",
       "      <td>Cardio</td>\n",
       "      <td>...</td>\n",
       "      <td>0.500610</td>\n",
       "      <td>1.663445</td>\n",
       "      <td>0.574534</td>\n",
       "      <td>0.708124</td>\n",
       "      <td>805.74</td>\n",
       "      <td>44.635580</td>\n",
       "      <td>654.5266</td>\n",
       "      <td>1.079607e+20</td>\n",
       "      <td>High</td>\n",
       "      <td>2</td>\n",
       "    </tr>\n",
       "    <tr>\n",
       "      <th>3</th>\n",
       "      <td>38.69</td>\n",
       "      <td>Female</td>\n",
       "      <td>93.78</td>\n",
       "      <td>1.70</td>\n",
       "      <td>191.21</td>\n",
       "      <td>155.10</td>\n",
       "      <td>50.07</td>\n",
       "      <td>1.10</td>\n",
       "      <td>1450.79</td>\n",
       "      <td>HIIT</td>\n",
       "      <td>...</td>\n",
       "      <td>0.499533</td>\n",
       "      <td>0.862017</td>\n",
       "      <td>0.744155</td>\n",
       "      <td>0.811150</td>\n",
       "      <td>1206.21</td>\n",
       "      <td>63.007432</td>\n",
       "      <td>773.6300</td>\n",
       "      <td>8.987921e+19</td>\n",
       "      <td>High</td>\n",
       "      <td>3</td>\n",
       "    </tr>\n",
       "    <tr>\n",
       "      <th>4</th>\n",
       "      <td>45.09</td>\n",
       "      <td>Male</td>\n",
       "      <td>52.42</td>\n",
       "      <td>1.88</td>\n",
       "      <td>193.58</td>\n",
       "      <td>152.88</td>\n",
       "      <td>70.84</td>\n",
       "      <td>1.08</td>\n",
       "      <td>1166.40</td>\n",
       "      <td>Strength</td>\n",
       "      <td>...</td>\n",
       "      <td>0.500581</td>\n",
       "      <td>2.538153</td>\n",
       "      <td>0.668405</td>\n",
       "      <td>0.789751</td>\n",
       "      <td>303.60</td>\n",
       "      <td>43.347504</td>\n",
       "      <td>711.4176</td>\n",
       "      <td>5.264685e+19</td>\n",
       "      <td>Low</td>\n",
       "      <td>4</td>\n",
       "    </tr>\n",
       "  </tbody>\n",
       "</table>\n",
       "<p>5 rows × 55 columns</p>\n",
       "</div>"
      ],
      "text/plain": [
       "     Age  Gender  Weight (kg)  Height (m)  Max_BPM  Avg_BPM  Resting_BPM  \\\n",
       "0  34.91    Male        65.27        1.62   188.58   157.65        69.05   \n",
       "1  23.37  Female        56.41        1.55   179.43   131.75        73.18   \n",
       "2  33.20  Female        58.98        1.67   175.04   123.95        54.96   \n",
       "3  38.69  Female        93.78        1.70   191.21   155.10        50.07   \n",
       "4  45.09    Male        52.42        1.88   193.58   152.88        70.84   \n",
       "\n",
       "   Session_Duration (hours)  Calories_Burned Workout_Type  ...  pct_carbs  \\\n",
       "0                      1.00          1080.90     Strength  ...   0.500432   \n",
       "1                      1.37          1809.91         HIIT  ...   0.500850   \n",
       "2                      0.91           802.26       Cardio  ...   0.500610   \n",
       "3                      1.10          1450.79         HIIT  ...   0.499533   \n",
       "4                      1.08          1166.40     Strength  ...   0.500581   \n",
       "\n",
       "   protein_per_kg   pct_HRR  pct_maxHR  cal_balance  lean_mass_kg  \\\n",
       "0        1.624789  0.741237   0.835985       725.10     47.777394   \n",
       "1        1.514093  0.551247   0.734270      -232.91     40.809803   \n",
       "2        1.663445  0.574534   0.708124       805.74     44.635580   \n",
       "3        0.862017  0.744155   0.811150      1206.21     63.007432   \n",
       "4        2.538153  0.668405   0.789751       303.60     43.347504   \n",
       "\n",
       "   expected_burn  Burns Calories (per 30 min)_bc  Burns_Calories_Bin  \\\n",
       "0       685.1600                    7.260425e+19              Medium   \n",
       "1       978.6184                    1.020506e+20                High   \n",
       "2       654.5266                    1.079607e+20                High   \n",
       "3       773.6300                    8.987921e+19                High   \n",
       "4       711.4176                    5.264685e+19                 Low   \n",
       "\n",
       "   Workout_Frequency  \n",
       "0                  3  \n",
       "1                  4  \n",
       "2                  2  \n",
       "3                  3  \n",
       "4                  4  \n",
       "\n",
       "[5 rows x 55 columns]"
      ]
     },
     "execution_count": 8,
     "metadata": {},
     "output_type": "execute_result"
    }
   ],
   "source": [
    "df['Workout_Frequency'] = df['Workout_Frequency (days/week)'].astype(int)\n",
    "df['Experience_Level'] = df['Experience_Level'].astype(int)\n",
    "\n",
    "df.head()"
   ]
  },
  {
   "cell_type": "markdown",
   "id": "20938cb6",
   "metadata": {},
   "source": [
    "## 5️⃣ **Identificación y tratamiento de datos atípicos**"
   ]
  },
  {
   "cell_type": "markdown",
   "id": "a92c57b6",
   "metadata": {},
   "source": [
    "En esta sección se lleva a cabo la identificación y análisis de posibles valores atípicos presentes en el dataset. Los outliers pueden deberse a errores de registro, inconsistencias en la carga de datos o simplemente reflejar casos extremos pero reales dentro de la población.\n",
    "\n",
    "El objetivo es verificar la coherencia y plausibilidad de los datos, asegurando que las observaciones sean consistentes con la realidad del contexto físico y nutricional que se analiza.\n",
    "\n",
    "Para este proceso se utilizó principalmente el método `describe()`, que permite obtener estadísticas descriptivas básicas como los valores `mínimos`, `máximos`, `medias`, `medianas` y `percentiles`. Gracias a ello, se pudieron detectar valores que inicialmente podrían parecer extremos.\n",
    "\n",
    "No obstante, en lugar de eliminarlos directamente, se realizó una revisión contextual comparando variables relacionadas —por ejemplo, la relación entre el peso, la altura y las calorías quemadas durante una sesión— para determinar si los valores eran coherentes desde un punto de vista fisiológico.\n",
    "\n",
    "Este enfoque permite distinguir entre errores reales y casos válidos, evitando eliminar información relevante y manteniendo la integridad del dataset para el análisis posterior."
   ]
  },
  {
   "cell_type": "code",
   "execution_count": 9,
   "id": "ca2cbe3e",
   "metadata": {},
   "outputs": [
    {
     "data": {
      "application/vnd.microsoft.datawrangler.viewer.v0+json": {
       "columns": [
        {
         "name": "index",
         "rawType": "object",
         "type": "string"
        },
        {
         "name": "Age",
         "rawType": "float64",
         "type": "float"
        },
        {
         "name": "Weight (kg)",
         "rawType": "float64",
         "type": "float"
        },
        {
         "name": "Height (m)",
         "rawType": "float64",
         "type": "float"
        },
        {
         "name": "Max_BPM",
         "rawType": "float64",
         "type": "float"
        },
        {
         "name": "Avg_BPM",
         "rawType": "float64",
         "type": "float"
        },
        {
         "name": "Resting_BPM",
         "rawType": "float64",
         "type": "float"
        },
        {
         "name": "Session_Duration (hours)",
         "rawType": "float64",
         "type": "float"
        },
        {
         "name": "Calories_Burned",
         "rawType": "float64",
         "type": "float"
        },
        {
         "name": "Fat_Percentage",
         "rawType": "float64",
         "type": "float"
        },
        {
         "name": "Water_Intake (liters)",
         "rawType": "float64",
         "type": "float"
        },
        {
         "name": "Workout_Frequency (days/week)",
         "rawType": "float64",
         "type": "float"
        },
        {
         "name": "Experience_Level",
         "rawType": "float64",
         "type": "float"
        },
        {
         "name": "BMI",
         "rawType": "float64",
         "type": "float"
        },
        {
         "name": "Daily meals frequency",
         "rawType": "float64",
         "type": "float"
        },
        {
         "name": "Physical exercise",
         "rawType": "float64",
         "type": "float"
        },
        {
         "name": "Carbs",
         "rawType": "float64",
         "type": "float"
        },
        {
         "name": "Proteins",
         "rawType": "float64",
         "type": "float"
        },
        {
         "name": "Fats",
         "rawType": "float64",
         "type": "float"
        },
        {
         "name": "Calories",
         "rawType": "float64",
         "type": "float"
        },
        {
         "name": "sugar_g",
         "rawType": "float64",
         "type": "float"
        },
        {
         "name": "sodium_mg",
         "rawType": "float64",
         "type": "float"
        },
        {
         "name": "cholesterol_mg",
         "rawType": "float64",
         "type": "float"
        },
        {
         "name": "serving_size_g",
         "rawType": "float64",
         "type": "float"
        },
        {
         "name": "prep_time_min",
         "rawType": "float64",
         "type": "float"
        },
        {
         "name": "cook_time_min",
         "rawType": "float64",
         "type": "float"
        },
        {
         "name": "rating",
         "rawType": "float64",
         "type": "float"
        },
        {
         "name": "Sets",
         "rawType": "float64",
         "type": "float"
        },
        {
         "name": "Reps",
         "rawType": "float64",
         "type": "float"
        },
        {
         "name": "Burns Calories (per 30 min)",
         "rawType": "float64",
         "type": "float"
        },
        {
         "name": "BMI_calc",
         "rawType": "float64",
         "type": "float"
        },
        {
         "name": "cal_from_macros",
         "rawType": "float64",
         "type": "float"
        },
        {
         "name": "pct_carbs",
         "rawType": "float64",
         "type": "float"
        },
        {
         "name": "protein_per_kg",
         "rawType": "float64",
         "type": "float"
        },
        {
         "name": "pct_HRR",
         "rawType": "float64",
         "type": "float"
        },
        {
         "name": "pct_maxHR",
         "rawType": "float64",
         "type": "float"
        },
        {
         "name": "cal_balance",
         "rawType": "float64",
         "type": "float"
        },
        {
         "name": "lean_mass_kg",
         "rawType": "float64",
         "type": "float"
        },
        {
         "name": "expected_burn",
         "rawType": "float64",
         "type": "float"
        },
        {
         "name": "Burns Calories (per 30 min)_bc",
         "rawType": "float64",
         "type": "float"
        },
        {
         "name": "Workout_Frequency",
         "rawType": "float64",
         "type": "float"
        }
       ],
       "ref": "7899d813-4e03-4a1d-b67e-1832348d429e",
       "rows": [
        [
         "count",
         "20000.0",
         "20000.0",
         "20000.0",
         "20000.0",
         "20000.0",
         "20000.0",
         "20000.0",
         "20000.0",
         "20000.0",
         "20000.0",
         "20000.0",
         "20000.0",
         "20000.0",
         "20000.0",
         "20000.0",
         "20000.0",
         "20000.0",
         "20000.0",
         "20000.0",
         "20000.0",
         "20000.0",
         "20000.0",
         "20000.0",
         "20000.0",
         "20000.0",
         "20000.0",
         "20000.0",
         "20000.0",
         "20000.0",
         "20000.0",
         "20000.0",
         "20000.0",
         "20000.0",
         "20000.0",
         "20000.0",
         "20000.0",
         "20000.0",
         "20000.0",
         "20000.0",
         "20000.0"
        ],
        [
         "mean",
         "38.8514535",
         "73.8988315",
         "1.7230934999999998",
         "179.88970199999997",
         "143.704306",
         "62.195813",
         "1.2594465",
         "1280.1096005",
         "26.101313358952215",
         "2.6274854999999997",
         "3.3186285000000004",
         "1.5789",
         "24.92168",
         "2.8648045",
         "0.45250300000000004",
         "249.7785915",
         "99.9182905",
         "66.612172",
         "2024.4183",
         "24.531042",
         "1258.139709",
         "148.4656025",
         "302.71949850000004",
         "33.517447499999996",
         "61.5021645",
         "2.989303",
         "4.4250595",
         "19.427316499999996",
         "344.0465145",
         "24.921650907878327",
         "1998.297076",
         "0.4999830470190845",
         "1.4601415773786344",
         "0.6990052532695914",
         "0.8023050385724124",
         "744.3086995",
         "53.78638385362203",
         "866.3523181500001",
         "8.631801573110443e+19",
         "2.9227"
        ],
        [
         "std",
         "12.114580329304289",
         "21.173009657497975",
         "0.1270327994037638",
         "11.510805287342604",
         "14.267687577663219",
         "7.289351036337672",
         "0.3413362479424948",
         "502.22898206685255",
         "4.996160091310786",
         "0.6047239509417245",
         "0.9111978918257404",
         "0.6979965257489131",
         "6.70112620924449",
         "0.6366485591353183",
         "0.9866275825712489",
         "55.108623060079246",
         "22.043670354383835",
         "14.69928368082791",
         "541.8915212901518",
         "14.446104698543635",
         "716.6189872316427",
         "87.38281737959495",
         "115.71194876194825",
         "16.5268692325582",
         "33.57974563730038",
         "1.1576915248348014",
         "0.5795959394547046",
         "3.67970747019121",
         "32.138782451318285",
         "6.701143834991101",
         "440.84840818548986",
         "0.0014554897215386254",
         "0.5189455048087174",
         "0.14488041735836296",
         "0.09661267651071426",
         "720.9466189334966",
         "12.498739979783636",
         "250.31706917284828",
         "3.1975786573725815e+19",
         "1.0333818770934355"
        ],
        [
         "min",
         "18.0",
         "39.18",
         "1.49",
         "159.31",
         "119.07",
         "49.49",
         "0.49",
         "323.11",
         "11.333133614105773",
         "1.46",
         "1.94",
         "1.0",
         "12.04",
         "1.95",
         "-0.07",
         "137.72",
         "55.17",
         "36.59",
         "781.0",
         "-0.67",
         "19.22",
         "-3.89",
         "95.95",
         "3.95",
         "3.35",
         "0.93",
         "2.96",
         "4.85",
         "128.75",
         "12.037907057907596",
         "1105.5700000000002",
         "0.4924342408151991",
         "0.5167064439140812",
         "0.3713438576809039",
         "0.5997889129014424",
         "-1266.2199999999998",
         "30.94626094233213",
         "219.8528",
         "2.491905313422408e+16",
         "1.0"
        ],
        [
         "25%",
         "28.17",
         "58.16",
         "1.62",
         "170.0575",
         "131.22",
         "55.96",
         "1.05",
         "910.8",
         "22.387806968981536",
         "2.17",
         "2.98",
         "1.0",
         "20.0975",
         "2.02",
         "-0.01",
         "207.5475",
         "83.04",
         "55.34",
         "1634.0",
         "11.99",
         "645.1275",
         "71.97",
         "207.2175",
         "18.5875",
         "32.4775",
         "1.94",
         "4.0",
         "16.12",
         "337.6",
         "20.09497482336016",
         "1661.0225",
         "0.49905380303501334",
         "1.076293739947194",
         "0.5836562412191599",
         "0.7276759062445266",
         "261.4325",
         "44.58703725620299",
         "714.09825",
         "6.441978238177481e+19",
         "2.0"
        ],
        [
         "50%",
         "39.864999999999995",
         "70.0",
         "1.71",
         "180.14",
         "142.99",
         "62.2",
         "1.27",
         "1231.45",
         "25.822503732955646",
         "2.61",
         "3.01",
         "1.0",
         "24.12",
         "3.0",
         "0.01",
         "242.9",
         "97.14500000000001",
         "64.77",
         "1919.0",
         "24.06",
         "1267.65",
         "149.79500000000002",
         "300.015",
         "34.33",
         "60.92",
         "3.0",
         "4.02",
         "19.9",
         "348.605",
         "24.119097000676113",
         "1943.13",
         "0.49998098046795625",
         "1.3822603416880446",
         "0.6862837255907319",
         "0.7948339842487298",
         "691.19",
         "51.20490816347471",
         "868.7213999999999",
         "8.371577618692473e+19",
         "3.0"
        ],
        [
         "75%",
         "49.63",
         "86.1",
         "1.8",
         "189.42499999999998",
         "156.06",
         "68.09",
         "1.46",
         "1553.1125",
         "29.676026059105112",
         "3.12",
         "4.0",
         "2.0",
         "28.56",
         "3.01",
         "0.04",
         "283.975",
         "113.64",
         "75.7525",
         "2360.0",
         "37.49",
         "1850.8925000000002",
         "221.84",
         "401.86",
         "47.94",
         "89.375",
         "4.0",
         "5.0",
         "22.88",
         "360.4725",
         "28.562619600218053",
         "2271.95",
         "0.5009102895796401",
         "1.7504950594361577",
         "0.7981956530048346",
         "0.8692107864957591",
         "1176.29",
         "61.939015630261466",
         "1012.5327",
         "1.100442283232892e+20",
         "4.0"
        ],
        [
         "max",
         "59.67",
         "130.77",
         "2.01",
         "199.64",
         "169.84",
         "74.5",
         "2.02",
         "2890.82",
         "35.0",
         "3.73",
         "5.06",
         "3.0",
         "50.23",
         "4.04",
         "4.05",
         "462.49",
         "185.34",
         "123.42",
         "3641.0",
         "50.51",
         "2527.27",
         "303.99",
         "507.52",
         "61.29",
         "121.46",
         "5.06",
         "5.05",
         "30.12",
         "381.71",
         "50.22954361328652",
         "3699.54",
         "0.5078886499508576",
         "3.916880691104366",
         "1.0739391552623805",
         "1.0470315631262523",
         "3075.58",
         "90.11737126575451",
         "1477.1087999999995",
         "1.756613954196533e+20",
         "5.0"
        ]
       ],
       "shape": {
        "columns": 40,
        "rows": 8
       }
      },
      "text/html": [
       "<div>\n",
       "<style scoped>\n",
       "    .dataframe tbody tr th:only-of-type {\n",
       "        vertical-align: middle;\n",
       "    }\n",
       "\n",
       "    .dataframe tbody tr th {\n",
       "        vertical-align: top;\n",
       "    }\n",
       "\n",
       "    .dataframe thead th {\n",
       "        text-align: right;\n",
       "    }\n",
       "</style>\n",
       "<table border=\"1\" class=\"dataframe\">\n",
       "  <thead>\n",
       "    <tr style=\"text-align: right;\">\n",
       "      <th></th>\n",
       "      <th>Age</th>\n",
       "      <th>Weight (kg)</th>\n",
       "      <th>Height (m)</th>\n",
       "      <th>Max_BPM</th>\n",
       "      <th>Avg_BPM</th>\n",
       "      <th>Resting_BPM</th>\n",
       "      <th>Session_Duration (hours)</th>\n",
       "      <th>Calories_Burned</th>\n",
       "      <th>Fat_Percentage</th>\n",
       "      <th>Water_Intake (liters)</th>\n",
       "      <th>...</th>\n",
       "      <th>cal_from_macros</th>\n",
       "      <th>pct_carbs</th>\n",
       "      <th>protein_per_kg</th>\n",
       "      <th>pct_HRR</th>\n",
       "      <th>pct_maxHR</th>\n",
       "      <th>cal_balance</th>\n",
       "      <th>lean_mass_kg</th>\n",
       "      <th>expected_burn</th>\n",
       "      <th>Burns Calories (per 30 min)_bc</th>\n",
       "      <th>Workout_Frequency</th>\n",
       "    </tr>\n",
       "  </thead>\n",
       "  <tbody>\n",
       "    <tr>\n",
       "      <th>count</th>\n",
       "      <td>20000.000000</td>\n",
       "      <td>20000.000000</td>\n",
       "      <td>20000.000000</td>\n",
       "      <td>20000.000000</td>\n",
       "      <td>20000.000000</td>\n",
       "      <td>20000.000000</td>\n",
       "      <td>20000.000000</td>\n",
       "      <td>20000.000000</td>\n",
       "      <td>20000.000000</td>\n",
       "      <td>20000.000000</td>\n",
       "      <td>...</td>\n",
       "      <td>20000.000000</td>\n",
       "      <td>20000.000000</td>\n",
       "      <td>20000.000000</td>\n",
       "      <td>20000.000000</td>\n",
       "      <td>20000.000000</td>\n",
       "      <td>20000.000000</td>\n",
       "      <td>20000.000000</td>\n",
       "      <td>20000.000000</td>\n",
       "      <td>2.000000e+04</td>\n",
       "      <td>20000.000000</td>\n",
       "    </tr>\n",
       "    <tr>\n",
       "      <th>mean</th>\n",
       "      <td>38.851453</td>\n",
       "      <td>73.898832</td>\n",
       "      <td>1.723093</td>\n",
       "      <td>179.889702</td>\n",
       "      <td>143.704306</td>\n",
       "      <td>62.195813</td>\n",
       "      <td>1.259446</td>\n",
       "      <td>1280.109600</td>\n",
       "      <td>26.101313</td>\n",
       "      <td>2.627485</td>\n",
       "      <td>...</td>\n",
       "      <td>1998.297076</td>\n",
       "      <td>0.499983</td>\n",
       "      <td>1.460142</td>\n",
       "      <td>0.699005</td>\n",
       "      <td>0.802305</td>\n",
       "      <td>744.308699</td>\n",
       "      <td>53.786384</td>\n",
       "      <td>866.352318</td>\n",
       "      <td>8.631802e+19</td>\n",
       "      <td>2.922700</td>\n",
       "    </tr>\n",
       "    <tr>\n",
       "      <th>std</th>\n",
       "      <td>12.114580</td>\n",
       "      <td>21.173010</td>\n",
       "      <td>0.127033</td>\n",
       "      <td>11.510805</td>\n",
       "      <td>14.267688</td>\n",
       "      <td>7.289351</td>\n",
       "      <td>0.341336</td>\n",
       "      <td>502.228982</td>\n",
       "      <td>4.996160</td>\n",
       "      <td>0.604724</td>\n",
       "      <td>...</td>\n",
       "      <td>440.848408</td>\n",
       "      <td>0.001455</td>\n",
       "      <td>0.518946</td>\n",
       "      <td>0.144880</td>\n",
       "      <td>0.096613</td>\n",
       "      <td>720.946619</td>\n",
       "      <td>12.498740</td>\n",
       "      <td>250.317069</td>\n",
       "      <td>3.197579e+19</td>\n",
       "      <td>1.033382</td>\n",
       "    </tr>\n",
       "    <tr>\n",
       "      <th>min</th>\n",
       "      <td>18.000000</td>\n",
       "      <td>39.180000</td>\n",
       "      <td>1.490000</td>\n",
       "      <td>159.310000</td>\n",
       "      <td>119.070000</td>\n",
       "      <td>49.490000</td>\n",
       "      <td>0.490000</td>\n",
       "      <td>323.110000</td>\n",
       "      <td>11.333134</td>\n",
       "      <td>1.460000</td>\n",
       "      <td>...</td>\n",
       "      <td>1105.570000</td>\n",
       "      <td>0.492434</td>\n",
       "      <td>0.516706</td>\n",
       "      <td>0.371344</td>\n",
       "      <td>0.599789</td>\n",
       "      <td>-1266.220000</td>\n",
       "      <td>30.946261</td>\n",
       "      <td>219.852800</td>\n",
       "      <td>2.491905e+16</td>\n",
       "      <td>1.000000</td>\n",
       "    </tr>\n",
       "    <tr>\n",
       "      <th>25%</th>\n",
       "      <td>28.170000</td>\n",
       "      <td>58.160000</td>\n",
       "      <td>1.620000</td>\n",
       "      <td>170.057500</td>\n",
       "      <td>131.220000</td>\n",
       "      <td>55.960000</td>\n",
       "      <td>1.050000</td>\n",
       "      <td>910.800000</td>\n",
       "      <td>22.387807</td>\n",
       "      <td>2.170000</td>\n",
       "      <td>...</td>\n",
       "      <td>1661.022500</td>\n",
       "      <td>0.499054</td>\n",
       "      <td>1.076294</td>\n",
       "      <td>0.583656</td>\n",
       "      <td>0.727676</td>\n",
       "      <td>261.432500</td>\n",
       "      <td>44.587037</td>\n",
       "      <td>714.098250</td>\n",
       "      <td>6.441978e+19</td>\n",
       "      <td>2.000000</td>\n",
       "    </tr>\n",
       "    <tr>\n",
       "      <th>50%</th>\n",
       "      <td>39.865000</td>\n",
       "      <td>70.000000</td>\n",
       "      <td>1.710000</td>\n",
       "      <td>180.140000</td>\n",
       "      <td>142.990000</td>\n",
       "      <td>62.200000</td>\n",
       "      <td>1.270000</td>\n",
       "      <td>1231.450000</td>\n",
       "      <td>25.822504</td>\n",
       "      <td>2.610000</td>\n",
       "      <td>...</td>\n",
       "      <td>1943.130000</td>\n",
       "      <td>0.499981</td>\n",
       "      <td>1.382260</td>\n",
       "      <td>0.686284</td>\n",
       "      <td>0.794834</td>\n",
       "      <td>691.190000</td>\n",
       "      <td>51.204908</td>\n",
       "      <td>868.721400</td>\n",
       "      <td>8.371578e+19</td>\n",
       "      <td>3.000000</td>\n",
       "    </tr>\n",
       "    <tr>\n",
       "      <th>75%</th>\n",
       "      <td>49.630000</td>\n",
       "      <td>86.100000</td>\n",
       "      <td>1.800000</td>\n",
       "      <td>189.425000</td>\n",
       "      <td>156.060000</td>\n",
       "      <td>68.090000</td>\n",
       "      <td>1.460000</td>\n",
       "      <td>1553.112500</td>\n",
       "      <td>29.676026</td>\n",
       "      <td>3.120000</td>\n",
       "      <td>...</td>\n",
       "      <td>2271.950000</td>\n",
       "      <td>0.500910</td>\n",
       "      <td>1.750495</td>\n",
       "      <td>0.798196</td>\n",
       "      <td>0.869211</td>\n",
       "      <td>1176.290000</td>\n",
       "      <td>61.939016</td>\n",
       "      <td>1012.532700</td>\n",
       "      <td>1.100442e+20</td>\n",
       "      <td>4.000000</td>\n",
       "    </tr>\n",
       "    <tr>\n",
       "      <th>max</th>\n",
       "      <td>59.670000</td>\n",
       "      <td>130.770000</td>\n",
       "      <td>2.010000</td>\n",
       "      <td>199.640000</td>\n",
       "      <td>169.840000</td>\n",
       "      <td>74.500000</td>\n",
       "      <td>2.020000</td>\n",
       "      <td>2890.820000</td>\n",
       "      <td>35.000000</td>\n",
       "      <td>3.730000</td>\n",
       "      <td>...</td>\n",
       "      <td>3699.540000</td>\n",
       "      <td>0.507889</td>\n",
       "      <td>3.916881</td>\n",
       "      <td>1.073939</td>\n",
       "      <td>1.047032</td>\n",
       "      <td>3075.580000</td>\n",
       "      <td>90.117371</td>\n",
       "      <td>1477.108800</td>\n",
       "      <td>1.756614e+20</td>\n",
       "      <td>5.000000</td>\n",
       "    </tr>\n",
       "  </tbody>\n",
       "</table>\n",
       "<p>8 rows × 40 columns</p>\n",
       "</div>"
      ],
      "text/plain": [
       "                Age   Weight (kg)    Height (m)       Max_BPM       Avg_BPM  \\\n",
       "count  20000.000000  20000.000000  20000.000000  20000.000000  20000.000000   \n",
       "mean      38.851453     73.898832      1.723093    179.889702    143.704306   \n",
       "std       12.114580     21.173010      0.127033     11.510805     14.267688   \n",
       "min       18.000000     39.180000      1.490000    159.310000    119.070000   \n",
       "25%       28.170000     58.160000      1.620000    170.057500    131.220000   \n",
       "50%       39.865000     70.000000      1.710000    180.140000    142.990000   \n",
       "75%       49.630000     86.100000      1.800000    189.425000    156.060000   \n",
       "max       59.670000    130.770000      2.010000    199.640000    169.840000   \n",
       "\n",
       "        Resting_BPM  Session_Duration (hours)  Calories_Burned  \\\n",
       "count  20000.000000              20000.000000     20000.000000   \n",
       "mean      62.195813                  1.259446      1280.109600   \n",
       "std        7.289351                  0.341336       502.228982   \n",
       "min       49.490000                  0.490000       323.110000   \n",
       "25%       55.960000                  1.050000       910.800000   \n",
       "50%       62.200000                  1.270000      1231.450000   \n",
       "75%       68.090000                  1.460000      1553.112500   \n",
       "max       74.500000                  2.020000      2890.820000   \n",
       "\n",
       "       Fat_Percentage  Water_Intake (liters)  ...  cal_from_macros  \\\n",
       "count    20000.000000           20000.000000  ...     20000.000000   \n",
       "mean        26.101313               2.627485  ...      1998.297076   \n",
       "std          4.996160               0.604724  ...       440.848408   \n",
       "min         11.333134               1.460000  ...      1105.570000   \n",
       "25%         22.387807               2.170000  ...      1661.022500   \n",
       "50%         25.822504               2.610000  ...      1943.130000   \n",
       "75%         29.676026               3.120000  ...      2271.950000   \n",
       "max         35.000000               3.730000  ...      3699.540000   \n",
       "\n",
       "          pct_carbs  protein_per_kg       pct_HRR     pct_maxHR   cal_balance  \\\n",
       "count  20000.000000    20000.000000  20000.000000  20000.000000  20000.000000   \n",
       "mean       0.499983        1.460142      0.699005      0.802305    744.308699   \n",
       "std        0.001455        0.518946      0.144880      0.096613    720.946619   \n",
       "min        0.492434        0.516706      0.371344      0.599789  -1266.220000   \n",
       "25%        0.499054        1.076294      0.583656      0.727676    261.432500   \n",
       "50%        0.499981        1.382260      0.686284      0.794834    691.190000   \n",
       "75%        0.500910        1.750495      0.798196      0.869211   1176.290000   \n",
       "max        0.507889        3.916881      1.073939      1.047032   3075.580000   \n",
       "\n",
       "       lean_mass_kg  expected_burn  Burns Calories (per 30 min)_bc  \\\n",
       "count  20000.000000   20000.000000                    2.000000e+04   \n",
       "mean      53.786384     866.352318                    8.631802e+19   \n",
       "std       12.498740     250.317069                    3.197579e+19   \n",
       "min       30.946261     219.852800                    2.491905e+16   \n",
       "25%       44.587037     714.098250                    6.441978e+19   \n",
       "50%       51.204908     868.721400                    8.371578e+19   \n",
       "75%       61.939016    1012.532700                    1.100442e+20   \n",
       "max       90.117371    1477.108800                    1.756614e+20   \n",
       "\n",
       "       Workout_Frequency  \n",
       "count       20000.000000  \n",
       "mean            2.922700  \n",
       "std             1.033382  \n",
       "min             1.000000  \n",
       "25%             2.000000  \n",
       "50%             3.000000  \n",
       "75%             4.000000  \n",
       "max             5.000000  \n",
       "\n",
       "[8 rows x 40 columns]"
      ]
     },
     "execution_count": 9,
     "metadata": {},
     "output_type": "execute_result"
    }
   ],
   "source": [
    "# Usamos la función describe para evaluar de forma rápida si hay algún valor atípico en nuestro dataset\n",
    "df.describe()"
   ]
  },
  {
   "cell_type": "markdown",
   "id": "a15c01e8",
   "metadata": {},
   "source": [
    "#### Verificación de la fiabilidad de los datos dietéticos\n",
    "\n",
    "Antes de analizar la relación entre la dieta y la composición corporal de los deportistas, es fundamental comprobar que los datos dietéticos sean **fiables y coherentes**.\n",
    "En primer lugar, verificaremos si las calorías calculadas a partir de los macronutrientes coinciden con las calorías declaradas en la columna `Calories`.\n",
    "Posteriormente, analizaremos si los porcentajes de macronutrientes (`Carb_ratio`, `Protein_ratio`, `Fat_ratio`) reflejan adecuadamente los valores esperados para cada tipo de dieta (`Diet_Type`)."
   ]
  },
  {
   "cell_type": "markdown",
   "id": "5959815c",
   "metadata": {},
   "source": [
    "#### Comprobación del balance energético de macronutrientes\n",
    "\n",
    "Para estimar las calorías teóricas derivadas de los macronutrientes, se utilizan equivalencias nutricionales ampliamente aceptadas:\n",
    "\n",
    "* **1 g de proteína = 4 kcal**\n",
    "* **1 g de carbohidrato = 4 kcal**\n",
    "* **1 g de grasa = 9 kcal**"
   ]
  },
  {
   "cell_type": "code",
   "execution_count": 10,
   "id": "36659a75",
   "metadata": {},
   "outputs": [
    {
     "data": {
      "application/vnd.microsoft.datawrangler.viewer.v0+json": {
       "columns": [
        {
         "name": "index",
         "rawType": "int64",
         "type": "integer"
        },
        {
         "name": "0",
         "rawType": "float64",
         "type": "float"
        }
       ],
       "ref": "2c8db3ba-64a9-4a6b-a162-4c2e60cbe9e1",
       "rows": [
        [
         "0",
         "2139.59"
        ],
        [
         "1",
         "1711.65"
        ],
        [
         "2",
         "1965.92"
        ],
        [
         "3",
         "1627.28"
        ],
        [
         "4",
         "2659.2300000000005"
        ],
        [
         "5",
         "1369.66"
        ],
        [
         "6",
         "2245.45"
        ],
        [
         "7",
         "2105.25"
        ],
        [
         "8",
         "1383.27"
        ],
        [
         "9",
         "1527.67"
        ],
        [
         "10",
         "2065.28"
        ],
        [
         "11",
         "1848.79"
        ],
        [
         "12",
         "1446.67"
        ],
        [
         "13",
         "2955.34"
        ],
        [
         "14",
         "1654.72"
        ],
        [
         "15",
         "2384.3"
        ],
        [
         "16",
         "1538.55"
        ],
        [
         "17",
         "1868.13"
        ],
        [
         "18",
         "1750.8899999999999"
        ],
        [
         "19",
         "1985.6"
        ],
        [
         "20",
         "2405.7"
        ],
        [
         "21",
         "2062.16"
        ],
        [
         "22",
         "1775.4900000000002"
        ],
        [
         "23",
         "1392.84"
        ],
        [
         "24",
         "1421.78"
        ],
        [
         "25",
         "2375.5"
        ],
        [
         "26",
         "1587.97"
        ],
        [
         "27",
         "2249.97"
        ],
        [
         "28",
         "2570.85"
        ],
        [
         "29",
         "1847.25"
        ],
        [
         "30",
         "1659.3600000000001"
        ],
        [
         "31",
         "1361.81"
        ],
        [
         "32",
         "2443.9100000000003"
        ],
        [
         "33",
         "1609.46"
        ],
        [
         "34",
         "1512.84"
        ],
        [
         "35",
         "1885.3700000000001"
        ],
        [
         "36",
         "2368.34"
        ],
        [
         "37",
         "1652.53"
        ],
        [
         "38",
         "1719.13"
        ],
        [
         "39",
         "2371.53"
        ],
        [
         "40",
         "1731.8200000000002"
        ],
        [
         "41",
         "2326.01"
        ],
        [
         "42",
         "2254.06"
        ],
        [
         "43",
         "2453.7700000000004"
        ],
        [
         "44",
         "2306.1499999999996"
        ],
        [
         "45",
         "3426.16"
        ],
        [
         "46",
         "1291.4099999999999"
        ],
        [
         "47",
         "1736.25"
        ],
        [
         "48",
         "2196.71"
        ],
        [
         "49",
         "1976.6799999999998"
        ]
       ],
       "shape": {
        "columns": 1,
        "rows": 20000
       }
      },
      "text/plain": [
       "0        2139.59\n",
       "1        1711.65\n",
       "2        1965.92\n",
       "3        1627.28\n",
       "4        2659.23\n",
       "          ...   \n",
       "19995    1882.80\n",
       "19996    1205.47\n",
       "19997    1947.79\n",
       "19998    1921.51\n",
       "19999    1754.55\n",
       "Length: 20000, dtype: float64"
      ]
     },
     "execution_count": 10,
     "metadata": {},
     "output_type": "execute_result"
    }
   ],
   "source": [
    "calorias_macro = df['Carbs'] * 4 + df['Proteins'] * 4 + df['Fats'] * 9\n",
    "calorias_macro"
   ]
  },
  {
   "cell_type": "markdown",
   "id": "28b548e0",
   "metadata": {},
   "source": [
    "A continuación, se evalúa la discrepancia entre las calorías calculadas y las registradas en la columna `Calories`.\n",
    "Se considera aceptable una diferencia máxima del **±5%**, representada por la línea roja en la siguiente figura."
   ]
  },
  {
   "cell_type": "code",
   "execution_count": 11,
   "id": "90ec2428",
   "metadata": {},
   "outputs": [
    {
     "data": {
      "image/png": "[encoded data removed]",
      "text/plain": [
       "<Figure size 1000x600 with 1 Axes>"
      ]
     },
     "metadata": {},
     "output_type": "display_data"
    }
   ],
   "source": [
    "dif = df['Calories'] - calorias_macro\n",
    "\n",
    "pct_discrepancia = dif / calorias_macro * 100\n",
    "\n",
    "plt.figure(figsize=(10,6))\n",
    "sns.histplot(pct_discrepancia.abs(), bins=60, kde=True, color='C0', edgecolor='white', alpha=0.8)\n",
    "plt.axvline(5, color='red', linestyle='--', linewidth=2)\n",
    "plt.xlabel('Porcentaje de discrepancia (%)')\n",
    "plt.ylabel('Frecuencia')\n",
    "plt.title('Distribución del % discrepancia entre Calories y calorías desde macronutrientes')\n",
    "plt.grid(alpha=0.3)\n",
    "plt.show()"
   ]
  },
  {
   "cell_type": "markdown",
   "id": "871947d2",
   "metadata": {},
   "source": [
    "Los resultados muestran que **la mayoría de los registros presentan discrepancias superiores al 5%**, lo cual indica que la columna `Calories` **no es consistente** con los valores de macronutrientes.\n",
    "Esto sugiere errores en la generación o registro de los datos, por lo que **las calorías totales no pueden considerarse una medida fiable** del valor energético real derivado de proteínas, carbohidratos y grasas."
   ]
  },
  {
   "cell_type": "markdown",
   "id": "4172f25f",
   "metadata": {},
   "source": [
    "\n",
    "#### Análisis de la coherencia interna de los macronutrientes\n",
    "\n",
    "Para determinar si el problema proviene de los datos de macronutrientes, se calculan los porcentajes energéticos que aporta cada uno sobre el total:"
   ]
  },
  {
   "cell_type": "code",
   "execution_count": 12,
   "id": "c27906f3",
   "metadata": {},
   "outputs": [
    {
     "name": "stdout",
     "output_type": "stream",
     "text": [
      "Lineas donde los carbohidratos son el 50% de la ingesta: 100.0%\n",
      "Lineas donde las proteinas son el 20% de la ingesta: 100.0%\n",
      "Lineas donde las grasas son el 30% de la ingesta: 100.0%\n"
     ]
    }
   ],
   "source": [
    "macro_kcal = (df['Carbs'] * 4) + (df['Proteins'] * 4) + (df['Fats'] * 9)\n",
    "\n",
    "Carb_ratio = (df['Carbs'] * 4 / macro_kcal).round(1)\n",
    "Protein_ratio = (df['Proteins'] * 4 / macro_kcal).round(1)\n",
    "Fat_ratio= (df['Fats'] * 9 / macro_kcal).round(1)\n",
    "\n",
    "print(f\"Lineas donde los carbohidratos son el 50% de la ingesta: {(Carb_ratio == 0.5).mean() * 100}%\")\n",
    "print(f\"Lineas donde las proteinas son el 20% de la ingesta: {(Protein_ratio == 0.2).mean() * 100}%\")\n",
    "print(f\"Lineas donde las grasas son el 30% de la ingesta: {(Fat_ratio == 0.3).mean() * 100}%\")\n"
   ]
  },
  {
   "cell_type": "markdown",
   "id": "abc166a3",
   "metadata": {},
   "source": [
    "\n",
    "Los resultados muestran que **una gran proporción de registros mantienen exactamente las mismas proporciones (50%-20%-30%)**, independientemente del tipo de dieta (`keto`, `low carb` o `balanced`).\n",
    "Este patrón es **poco realista** y **contradice los valores nutricionales esperados**, donde una dieta cetogénica, por ejemplo, debería tener una proporción mucho menor de carbohidratos y mayor de grasas.\n",
    "\n",
    "Por tanto, se concluye que tanto los campos de macronutrientes como `Diet_Type` presentan **problemas de consistencia** y **no reflejan adecuadamente la información dietética que pretenden representar**."
   ]
  },
  {
   "cell_type": "markdown",
   "id": "a2461a54",
   "metadata": {},
   "source": [
    "El análisis de coherencia revela que:\n",
    "\n",
    "* Las **calorías derivadas de los macronutrientes no coinciden** con las calorías totales declaradas.\n",
    "* Los **porcentajes de macronutrientes son prácticamente iguales** entre dietas teóricamente distintas.\n",
    "\n",
    "En consecuencia, **las columnas `Calories`, `Carbs`, `Proteins`, `Fat` y `Diet_Type` presentan inconsistencias** que limitan su utilidad para un análisis predictivo fiable."
   ]
  },
  {
   "cell_type": "markdown",
   "id": "f7a467a3",
   "metadata": {},
   "source": [
    "Si analizamos los datos que nos reporta el método `describe()`, observamos algunos valores que en un primer momento podrían parecer atípicos, como el máximo de calorías quemadas por sesión (`Calories_Burned` = 2890.82 kcal).\n",
    "\n",
    "Sin embargo, al revisar conjuntamente las columnas de altura y peso, comprobamos que los valores máximos registrados (`Height` = 2.01 m, `Weight` = 130.77 kg) corresponden a individuos con una complexión grande.\n",
    "\n",
    "Esto tiene sentido desde el punto de vista fisiológico, ya que una persona más alta y con mayor masa corporal consume más energía durante el ejercicio, incluso realizando la misma actividad que alguien más pequeño.\n",
    "\n",
    "Además, el análisis de la variable `Experience_Level` muestra que la mayoría de participantes se encuentran entre los niveles 1 y 2 (principiante e intermedio), lo que sugiere que el gasto calórico elevado puede deberse también a menor eficiencia en la ejecución del ejercicio, ya que las personas con menos experiencia tienden a gastar más energía para mantener la misma intensidad.\n",
    "\n",
    "Por tanto, estos valores altos de calorías no se consideran errores ni outliers anómalos, sino variaciones naturales explicadas por las características físicas y el nivel de experiencia de los individuos.\n",
    "\n",
    "---"
   ]
  },
  {
   "cell_type": "markdown",
   "id": "c8dfb841",
   "metadata": {},
   "source": [
    "Durante la exploración inicial del dataset, se identificaron algunas columnas cuyos valores no coincidían con la descripción oficial proporcionada por la fuente del conjunto de datos, o bien no aportaban información relevante para el análisis.\n",
    "Este proceso de revisión tiene como objetivo garantizar la calidad y consistencia semántica de las variables, eliminando aquellas que puedan inducir ruido o confusión en los resultados posteriores.\n",
    "\n",
    "En concreto:\n",
    "\n",
    "- La columna `meal_name` se eliminó porque todos sus valores corresponden al término \"Other\", a pesar de que la descripción oficial indica que debería contener nombres de comidas como Breakfast, Lunch o Dinner. Al no aportar variabilidad ni información útil, esta variable se descartó.\n",
    "\n",
    "- La columna `Physical exercise` fue removida tras comprobar que sus valores numéricos (por ejemplo, -0.04, 0.97, 3.0) no se ajustaban a la descripción original (“indica el tipo o la frecuencia de actividad física”), lo que sugiere un error en la codificación o carga de datos.\n",
    "\n",
    "Estas eliminaciones permiten mantener la coherencia entre el significado teórico de las variables y los datos reales presentes en el dataset, mejorando la fiabilidad del análisis posterior."
   ]
  },
  {
   "cell_type": "code",
   "execution_count": 13,
   "id": "a469268b",
   "metadata": {},
   "outputs": [
    {
     "name": "stdout",
     "output_type": "stream",
     "text": [
      "Total columnas antes de la limpieza: 55\n",
      "Total columnas después de la limpieza: 34\n"
     ]
    }
   ],
   "source": [
    "print((f\"Total columnas antes de la limpieza: {len(df.columns)}\"))\n",
    "\n",
    "# Creamos un nuevo DataFrame sin las columnas que no son útiles\n",
    "df = df.drop(['meal_name','Physical exercise', 'Calories', 'Carbs', 'Proteins', 'Fats', 'diet_type', 'Daily meals frequency', 'sugar_g', 'sodium_mg', 'cholesterol_mg', 'serving_size_g', 'cooking_method', 'prep_time_min', 'cook_time_min', 'rating', 'protein_per_kg', 'cal_balance', 'cal_from_macros', 'pct_carbs', 'meal_type'], axis=1)\n",
    "\n",
    "# Mostramos de nuevo las 4 primeras filas para verificar que está todo correcto\n",
    "print((f\"Total columnas después de la limpieza: {len(df.columns)}\"))"
   ]
  },
  {
   "cell_type": "markdown",
   "id": "c33f82b1",
   "metadata": {},
   "source": [
    "## 6️⃣ **Creación de variables derivadas o auxiliares**"
   ]
  },
  {
   "cell_type": "markdown",
   "id": "066834af",
   "metadata": {},
   "source": [
    "Tras la fase de limpieza y verificación de datos, hemos decidido **crear una serie de variables auxiliares** para enriquecer el análisis y obtener una visión más completa sobre los factores relacionados con el **rendimiento físico y la condición corporal** de los participantes.  \n",
    "\n",
    "El objetivo principal de este apartado es **aprovechar la información ya existente** en el dataset para generar nuevos indicadores que nos ayuden a interpretar mejor los resultados, detectar patrones y facilitar el análisis de correlaciones en fases posteriores.  \n",
    "\n",
    "Estas variables combinan datos de distintas columnas originales y nos permiten comparar de manera más justa el desempeño entre personas con características físicas diferentes. A continuación, se describen las nuevas variables creadas:\n",
    "\n",
    "- **`HRR (Heart Rate Reserve)`**: calcula la **reserva de frecuencia cardíaca**, es decir, la diferencia entre la frecuencia máxima y la frecuencia en reposo (`Max_BPM - Resting_BPM`). Este valor refleja la capacidad cardiovascular de cada individuo: cuanto mayor sea el HRR, mejor condición física suele tener la persona.\n",
    "\n",
    "- **`Relative intensity`**: mide el **nivel de esfuerzo relativo** durante la sesión utilizando la **fórmula de Karvonen**, un método ampliamente utilizado para calcular la intensidad del ejercicio en función de la frecuencia cardíaca individual. Se obtiene mediante la expresión  **`(Avg_BPM - Resting_BPM) / HRR`**,  donde `HRR` representa la reserva de frecuencia cardíaca. Este valor refleja el **porcentaje de la capacidad cardiovascular utilizada** durante la sesión: cuanto más alto es el resultado, mayor es la intensidad del esfuerzo realizado en relación con el máximo potencial del individuo.\n",
    "\n",
    "- **`Calories/hour`**: representa la **intensidad del entrenamiento** expresada en calorías quemadas por hora (`Calories_Burned / Session_Duration (hours)`). Esta métrica permite comparar el esfuerzo entre sesiones de distinta duración de manera más equitativa.\n",
    "\n",
    "- **`Weekly training load`**: estima la **carga total de entrenamiento semanal**, combinando la frecuencia y la duración media de las sesiones (`Workout_Frequency * Session_Duration`). Cuanto mayor sea este valor, mayor es el volumen de entrenamiento acumulado en la semana.\n",
    "\n",
    "- **`Approximate energy balance`**: mide el **balance energético diario aproximado** restando las calorías quemadas de las calorías ingeridas (`Calories - Calories_Burned`). Un valor positivo indica superávit calórico (ingesta mayor al gasto), mientras que un valor negativo indica déficit calórico.\n",
    "\n",
    "La creación de estas variables nos permite **profundizar en el análisis exploratorio y predictivo**, ofreciendo una visión más contextualizada del rendimiento físico y los hábitos de los participantes. Gracias a estos nuevos indicadores, podremos identificar relaciones más precisas entre el entrenamiento, la dieta y los resultados fisiológicos."
   ]
  },
  {
   "cell_type": "code",
   "execution_count": 14,
   "id": "37e26268",
   "metadata": {},
   "outputs": [
    {
     "data": {
      "application/vnd.microsoft.datawrangler.viewer.v0+json": {
       "columns": [
        {
         "name": "index",
         "rawType": "int64",
         "type": "integer"
        },
        {
         "name": "HRR",
         "rawType": "float64",
         "type": "float"
        },
        {
         "name": "Relative_Intensity",
         "rawType": "float64",
         "type": "float"
        },
        {
         "name": "Calories_per_hour",
         "rawType": "float64",
         "type": "float"
        },
        {
         "name": "Weekly_training_load",
         "rawType": "float64",
         "type": "float"
        }
       ],
       "ref": "f62d86cb-b4bb-47de-89fe-e528638b8fb6",
       "rows": [
        [
         "0",
         "119.53000000000002",
         "0.7412365096628462",
         "1080.9",
         "3.99"
        ],
        [
         "1",
         "106.25",
         "0.5512470588235293",
         "1321.102189781022",
         "5.48"
        ],
        [
         "2",
         "120.07999999999998",
         "0.5745336442371753",
         "881.6043956043956",
         "2.7209000000000003"
        ],
        [
         "3",
         "141.14000000000001",
         "0.7441547399744933",
         "1318.8999999999999",
         "4.389"
        ],
        [
         "4",
         "122.74000000000001",
         "0.6684047580250936",
         "1080.0",
         "4.32"
        ]
       ],
       "shape": {
        "columns": 4,
        "rows": 5
       }
      },
      "text/html": [
       "<div>\n",
       "<style scoped>\n",
       "    .dataframe tbody tr th:only-of-type {\n",
       "        vertical-align: middle;\n",
       "    }\n",
       "\n",
       "    .dataframe tbody tr th {\n",
       "        vertical-align: top;\n",
       "    }\n",
       "\n",
       "    .dataframe thead th {\n",
       "        text-align: right;\n",
       "    }\n",
       "</style>\n",
       "<table border=\"1\" class=\"dataframe\">\n",
       "  <thead>\n",
       "    <tr style=\"text-align: right;\">\n",
       "      <th></th>\n",
       "      <th>HRR</th>\n",
       "      <th>Relative_Intensity</th>\n",
       "      <th>Calories_per_hour</th>\n",
       "      <th>Weekly_training_load</th>\n",
       "    </tr>\n",
       "  </thead>\n",
       "  <tbody>\n",
       "    <tr>\n",
       "      <th>0</th>\n",
       "      <td>119.53</td>\n",
       "      <td>0.741237</td>\n",
       "      <td>1080.900000</td>\n",
       "      <td>3.9900</td>\n",
       "    </tr>\n",
       "    <tr>\n",
       "      <th>1</th>\n",
       "      <td>106.25</td>\n",
       "      <td>0.551247</td>\n",
       "      <td>1321.102190</td>\n",
       "      <td>5.4800</td>\n",
       "    </tr>\n",
       "    <tr>\n",
       "      <th>2</th>\n",
       "      <td>120.08</td>\n",
       "      <td>0.574534</td>\n",
       "      <td>881.604396</td>\n",
       "      <td>2.7209</td>\n",
       "    </tr>\n",
       "    <tr>\n",
       "      <th>3</th>\n",
       "      <td>141.14</td>\n",
       "      <td>0.744155</td>\n",
       "      <td>1318.900000</td>\n",
       "      <td>4.3890</td>\n",
       "    </tr>\n",
       "    <tr>\n",
       "      <th>4</th>\n",
       "      <td>122.74</td>\n",
       "      <td>0.668405</td>\n",
       "      <td>1080.000000</td>\n",
       "      <td>4.3200</td>\n",
       "    </tr>\n",
       "  </tbody>\n",
       "</table>\n",
       "</div>"
      ],
      "text/plain": [
       "      HRR  Relative_Intensity  Calories_per_hour  Weekly_training_load\n",
       "0  119.53            0.741237        1080.900000                3.9900\n",
       "1  106.25            0.551247        1321.102190                5.4800\n",
       "2  120.08            0.574534         881.604396                2.7209\n",
       "3  141.14            0.744155        1318.900000                4.3890\n",
       "4  122.74            0.668405        1080.000000                4.3200"
      ]
     },
     "execution_count": 14,
     "metadata": {},
     "output_type": "execute_result"
    }
   ],
   "source": [
    "# Reserva de frecuencia cardíaca (FCR)\n",
    "df['HRR'] = df['Max_BPM'] - df['Resting_BPM']\n",
    "\n",
    "# Intensidad relativa\n",
    "# Usamos la fómrula de Karvonen que es un método eficaz para calcular nuestras zonas de entrenamiento por frecuencia cardíaca\n",
    "df['Relative_Intensity'] = (df['Avg_BPM'] - df['Resting_BPM']) / df['HRR']\n",
    "\n",
    "# Calorías por hora (intensidad de entrenamiento)\n",
    "df['Calories_per_hour'] = df['Calories_Burned'] / df['Session_Duration (hours)'].replace(0, np.nan)\n",
    "\n",
    "# Carga de entrenamiento semanal\n",
    "df['Weekly_training_load'] = df['Workout_Frequency (days/week)'] * df['Session_Duration (hours)']\n",
    "\n",
    "# Verificación rápida de las nuevas columnas\n",
    "df[['HRR', 'Relative_Intensity', 'Calories_per_hour',\n",
    "    'Weekly_training_load']].head()"
   ]
  },
  {
   "cell_type": "markdown",
   "id": "f5b56e3c",
   "metadata": {},
   "source": [
    "## 7️⃣ **Análisis de correlaciones**"
   ]
  },
  {
   "cell_type": "markdown",
   "id": "e14e5385",
   "metadata": {},
   "source": [
    "En esta sección se analizan las relaciones entre distintas variables del dataset con el objetivo de responder a preguntas específicas sobre la salud, el rendimiento físico y los hábitos de los participantes en este dataset."
   ]
  },
  {
   "cell_type": "markdown",
   "id": "e27e668d",
   "metadata": {},
   "source": [
    "### 🩺 Bloque A: Salud cardiovascular\n",
    "\n",
    "**Objetivo:** Entender cómo los hábitos de vida afectan el rendimiento y la eficiencia del corazón.\n",
    "\n",
    "**Contexto:** El ritmo cardíaco en reposo es un indicador clave de la salud cardiovascular y del estado físico general. Factores como la hidratación, la frecuencia de entrenamiento, la intensidad relativa del ejercicio y la calidad de la dieta pueden influir directamente en la eficiencia del sistema cardiovascular.  \n",
    "\n",
    "Analizar estas relaciones permite comprender si los participantes con mejores hábitos presentan una mejor capacidad cardiovascular reflejada en un menor `Resting_BPM` y un mayor `HRR`.\n",
    "\n",
    "**Pregunta 1:** ¿Las personas con hábitos más saludables (mayor consumo de agua, frecuencia de entrenamiento y dieta equilibrada) presentan menor `Resting_BPM` y mayor `HRR`?  \n",
    "**Pregunta 2:** ¿A mayor frecuencia de entrenamiento, menores son las pulsaciones en reposo?\n",
    "\n",
    "**📊 Análisis sugerido:**\n",
    "- Calcular correlaciones entre `Water_Intake`, `Workout_Frequency`, `Relative_Intensity` y las variables cardiovasculares (`Resting_BPM`, `HRR`).  \n",
    "- Visualizar relaciones con gráficos de dispersión o regresión lineal.  \n",
    "- Posible uso de `sns.heatmap()` o `sns.regplot()` para observar las correlaciones.\n"
   ]
  },
  {
   "cell_type": "code",
   "execution_count": null,
   "id": "6f5d912f",
   "metadata": {},
   "outputs": [],
   "source": []
  },
  {
   "cell_type": "markdown",
   "id": "2f2d418c",
   "metadata": {},
   "source": [
    "**Conclusión:** (Interpretación clara del resultado)"
   ]
  },
  {
   "cell_type": "markdown",
   "id": "90c5ffcf",
   "metadata": {},
   "source": [
    "### 💪 Bloque B: Rendimiento de sesión\n"
   ]
  },
  {
   "cell_type": "markdown",
   "id": "f1d7f2cd",
   "metadata": {},
   "source": [
    "**Objetivo:** Evaluar qué factores influyen en el gasto energético y la intensidad del entrenamiento.\n",
    "\n",
    "**Contexto:** El rendimiento durante una sesión de ejercicio depende de múltiples variables, como el tipo de entrenamiento, la experiencia del individuo y su capacidad cardiovascular. Analizar estas relaciones permite identificar qué factores determinan una mayor quema de calorías, si los entrenamientos más intensos (como HIIT) se traducen realmente en un gasto calórico superior, y si los niveles de experiencia afectan la eficiencia del esfuerzo realizado.\n",
    "\n",
    "**Pregunta 1:** ¿Qué tipo de ejercicio tiende a quemar más calorías? (`Workout_Type` vs `Calories_Burned`)  \n",
    "**Pregunta 2:** ¿Las personas con menos experiencia (`Experience_Level`) queman más calorías por sesión que las avanzadas?  \n",
    "\n",
    "**📊 Análisis sugerido:**\n",
    "- Gráficos de barras (`sns.barplot`) comparando el tipo de entrenamiento con las calorías quemadas y la intensidad.  \n",
    "- Cálculo de medias mediante `groupby` y `mean()` para `Calories_Burned` y `Calories/hour`.  \n",
    "- Comparaciones de medias entre distintos niveles de experiencia (`Experience_Level`).\n",
    "- Posible visualización con `sns.boxplot()` para ver la variabilidad dentro de cada tipo de entrenamiento."
   ]
  },
  {
   "cell_type": "code",
   "execution_count": null,
   "id": "d1427c2d",
   "metadata": {},
   "outputs": [],
   "source": []
  },
  {
   "cell_type": "markdown",
   "id": "4fb9b292",
   "metadata": {},
   "source": [
    "**Conclusión:** (Interpretación clara del resultado)"
   ]
  },
  {
   "cell_type": "markdown",
   "id": "16fb0dc4",
   "metadata": {},
   "source": [
    "### ⚖️ Bloque C: Perfil general de los participantes\n",
    "\n",
    "**Objetivo:** Comprender el perfil dominante en el dataset y analizar las diferencias entre grupos.\n",
    "\n",
    "**Contexto:** Explorar las variables demográficas y de estilo de vida permite identificar el perfil general de los individuos del dataset: si son más bien sedentarios o activos, si entrenan con regularidad y si su balance energético es positivo o negativo.\n",
    "\n",
    "Además, observar las diferencias entre hombres y mujeres en cuanto a frecuencia de entrenamiento, tipo de ejercicios y gasto calórico puede revelar tendencias interesantes sobre los hábitos de entrenamiento y alimentación.\n",
    "\n",
    "**Pregunta 1:** ¿Predominan sujetos con un estilo de vida activo o sedentario?  \n",
    "**Pregunta 2:** ¿Entrenan con más frecuencia los hombres o las mujeres? (`Gender` vs `Workout_Frequency`)  \n",
    "**Pregunta 3:** ¿Qué tipo de ejercicio prefieren los hombres y las mujeres? (`Gender` vs `Workout_Type`)  "
   ]
  },
  {
   "cell_type": "markdown",
   "id": "1a5e62f5",
   "metadata": {},
   "source": [
    "### **1 — Clasificación de nivel de actividad**\n",
    "\n",
    "En primer lugar, definimos un umbral simple para distinguir entre participantes **activos** y **sedentarios**, según su frecuencia semanal de entrenamiento (`Workout_Frequency`).\n",
    "Un valor superior a 2 días por semana se considera indicador de un estilo de vida activo.\n",
    "\n",
    "A continuación, se calcula y representa la distribución de ambos grupos, tanto en términos absolutos como porcentuales, para identificar cuál predomina en el conjunto de datos.\n",
    "Esta primera visualización permite tener una idea general del tipo de población que compone el dataset."
   ]
  },
  {
   "cell_type": "code",
   "execution_count": 15,
   "id": "2c10301b",
   "metadata": {},
   "outputs": [
    {
     "name": "stdout",
     "output_type": "stream",
     "text": [
      "Distribución Activity_level (conteo):\n",
      "Activity_level\n",
      "Active       12985\n",
      "Sedentary     7015\n",
      "Name: count, dtype: int64\n",
      "\n",
      "Distribución Activity_level (%):\n",
      "Activity_level\n",
      "Active       64.92\n",
      "Sedentary    35.08\n",
      "Name: proportion, dtype: float64\n"
     ]
    },
    {
     "data": {
      "image/png": "[encoded data removed]",
      "text/plain": [
       "<Figure size 600x400 with 1 Axes>"
      ]
     },
     "metadata": {},
     "output_type": "display_data"
    }
   ],
   "source": [
    "\n",
    "# Definir umbral simple para considerar \"activo\" vs \"sedentario\"\n",
    "activo_umbral = 2  # días/semana \n",
    "df['Activity_level'] = np.where(df['Workout_Frequency'] > activo_umbral, 'Active', 'Sedentary')\n",
    "\n",
    "# 1) ¿Predominan sujetos activos o sedentarios?\n",
    "counts_activity = df['Activity_level'].value_counts()\n",
    "pct_activity = df['Activity_level'].value_counts(normalize=True) * 100\n",
    "\n",
    "print(\"Distribución Activity_level (conteo):\")\n",
    "print(counts_activity)\n",
    "print(\"\\nDistribución Activity_level (%):\")\n",
    "print(pct_activity.round(2))\n",
    "\n",
    "plt.figure(figsize=(6,4))\n",
    "sns.countplot(data=df, x='Activity_level', hue='Activity_level', order=['Active','Sedentary'])\n",
    "plt.title('Conteo: Active vs Sedentary')\n",
    "plt.xlabel('')\n",
    "plt.ylabel('Número de sujetos')\n",
    "plt.show()\n"
   ]
  },
  {
   "cell_type": "markdown",
   "id": "d50e436f",
   "metadata": {},
   "source": [
    "\n",
    "### **2 — Frecuencia de entrenamiento por género**\n",
    "\n",
    "En este bloque se analiza si existen diferencias notables en la frecuencia de entrenamiento entre hombres y mujeres.\n",
    "Para ello, se agrupan los datos por `Gender` y se calculan medidas descriptivas como la **media, mediana y desviación estándar** de `Workout_Frequency`.\n",
    "\n",
    "Además, se utiliza un gráfico de barras para representar visualmente la media de días de entrenamiento por género, con intervalos de confianza al 95%.\n",
    "Este análisis permite detectar si alguno de los géneros tiende a entrenar con mayor regularidad."
   ]
  },
  {
   "cell_type": "code",
   "execution_count": 16,
   "id": "5872939f",
   "metadata": {},
   "outputs": [
    {
     "data": {
      "image/png": "[encoded data removed]",
      "text/plain": [
       "<Figure size 800x400 with 1 Axes>"
      ]
     },
     "metadata": {},
     "output_type": "display_data"
    }
   ],
   "source": [
    "plt.figure(figsize=(8,4))\n",
    "sns.barplot(data=df, x='Gender', y='Workout_Frequency', hue='Gender')\n",
    "plt.title('Promedio de Workout_Frequency por Gender')\n",
    "plt.ylabel('Días/semana (media)')\n",
    "plt.show()"
   ]
  },
  {
   "cell_type": "markdown",
   "id": "afd1f143",
   "metadata": {},
   "source": [
    "### **3 — Tipos de entrenamiento preferidos por género**\n",
    "\n",
    "Aquí se explora la variable `Workout_Type` para determinar los **tipos de ejercicio más comunes** y observar posibles diferencias de preferencia entre hombres y mujeres.\n",
    "Se seleccionan los *Top 8* tipos más frecuentes y se construye un gráfico de barras agrupado por `Gender` para facilitar la comparación visual.\n",
    "\n",
    "Este análisis ayuda a identificar tendencias de comportamiento y preferencias en el tipo de actividad física realizada, complementando la información sobre la frecuencia de entrenamiento."
   ]
  },
  {
   "cell_type": "code",
   "execution_count": 17,
   "id": "fe7c6791",
   "metadata": {},
   "outputs": [
    {
     "data": {
      "image/png": "[encoded data removed]",
      "text/plain": [
       "<Figure size 1000x500 with 1 Axes>"
      ]
     },
     "metadata": {},
     "output_type": "display_data"
    }
   ],
   "source": [
    "# 3) ¿Qué tipo de ejercicio prefieren hombres y mujeres?\n",
    "# Mostrar los top N tipos y plot con hue Gender\n",
    "top_n = 8\n",
    "top_types = df['Workout_Type'].value_counts().head(top_n).index\n",
    "df_types = df[df['Workout_Type'].isin(top_types)].copy()\n",
    "\n",
    "plt.figure(figsize=(10,5))\n",
    "sns.countplot(data=df_types, y='Workout_Type', hue='Gender', order=top_types, palette='Set1')\n",
    "plt.title(f'Top {top_n} Workout_Type por Gender')\n",
    "plt.xlabel('Número de sujetos')\n",
    "plt.ylabel('Workout_Type')\n",
    "plt.legend(title='Gender')\n",
    "plt.tight_layout()\n",
    "plt.show()"
   ]
  },
  {
   "cell_type": "markdown",
   "id": "0adada2e",
   "metadata": {},
   "source": [
    "\n",
    "### **4 — Correlaciones entre variables demográficas y de estilo de vida**\n",
    "\n",
    "Por último, se examinan las relaciones entre las variables demográficas principales (`Gender`, `Height (m)`, `Weight (kg)`, `Age`) y el resto de variables numéricas del dataset mediante una **matriz de correlación**.\n",
    "El objetivo es detectar posibles patrones entre el perfil físico de los individuos y otros indicadores (por ejemplo, gasto energético o frecuencia de entrenamiento).\n",
    "\n",
    "Se genera un mapa de calor (*heatmap*) que permite visualizar rápidamente las correlaciones más fuertes y, posteriormente, se muestran las **10 correlaciones más altas** para cada variable analizada.\n",
    "Esto facilita identificar asociaciones relevantes que podrían ser exploradas en análisis posteriores (por ejemplo, relaciones entre peso y gasto calórico o entre edad y nivel de actividad)."
   ]
  },
  {
   "cell_type": "code",
   "execution_count": 18,
   "id": "cc5d428f",
   "metadata": {},
   "outputs": [
    {
     "data": {
      "image/png": "[encoded data removed]",
      "text/plain": [
       "<Figure size 1400x520 with 2 Axes>"
      ]
     },
     "metadata": {},
     "output_type": "display_data"
    }
   ],
   "source": [
    "df['male'] = df['Gender'].map({'Male': 1, 'Female': 0}).fillna(-1)\n",
    "\n",
    "# Variables de interés a comparar\n",
    "features = ['male','Height (m)', 'Weight (kg)', 'Age']\n",
    "features = [f for f in features if f in df.columns]\n",
    "\n",
    "# Seleccionar columnas numéricas disponibles\n",
    "numeric_cols = df.select_dtypes(include=[np.number]).columns.tolist()\n",
    "\n",
    "# Matriz de correlación completa entre numéricos\n",
    "corr = df[numeric_cols].corr()\n",
    "\n",
    "# Sub-matriz: filas = nuestras features, columnas = todas las numéricas\n",
    "corr_sub = corr.loc[features, :]\n",
    "\n",
    "# Heatmap (features vs resto de numéricas)\n",
    "plt.figure(figsize=(14, len(features)*0.8 + 2))\n",
    "sns.heatmap(corr_sub, annot=True, fmt=\".2f\", cmap='coolwarm', vmin=-1, vmax=1,\n",
    "            linewidths=.5, cbar_kws={\"shrink\": .75})\n",
    "plt.title(\"Correlación: Gender/Height/Weight/Agevs columnas numéricas\")\n",
    "plt.tight_layout()\n",
    "plt.show()\n",
    "\n",
    "    "
   ]
  },
  {
   "cell_type": "markdown",
   "id": "d924b758",
   "metadata": {},
   "source": [
    "**Conclusión:** (Interpretación clara del resultado)"
   ]
  },
  {
   "cell_type": "markdown",
   "id": "285ff889",
   "metadata": {},
   "source": [
    "## 8️⃣ **Modelado predictivo**"
   ]
  },
  {
   "cell_type": "code",
   "execution_count": null,
   "id": "ef419ad2",
   "metadata": {},
   "outputs": [],
   "source": []
  },
  {
   "cell_type": "markdown",
   "id": "f719525b",
   "metadata": {},
   "source": [
    "## 9️⃣ **Regularización**"
   ]
  },
  {
   "cell_type": "code",
   "execution_count": null,
   "id": "a84fc49b",
   "metadata": {},
   "outputs": [],
   "source": []
  },
  {
   "cell_type": "markdown",
   "id": "ad5e412e",
   "metadata": {},
   "source": [
    "## 🔟 **Árboles de regresión y ajuste de hiperparámetros**"
   ]
  },
  {
   "cell_type": "code",
   "execution_count": null,
   "id": "2bccc35b",
   "metadata": {},
   "outputs": [],
   "source": []
  },
  {
   "cell_type": "markdown",
   "id": "ece0f71d",
   "metadata": {},
   "source": [
    "## 1️⃣1️⃣ **Random Forest vs Gradient Boosting**"
   ]
  },
  {
   "cell_type": "code",
   "execution_count": null,
   "id": "a888cc10",
   "metadata": {},
   "outputs": [],
   "source": []
  },
  {
   "cell_type": "markdown",
   "id": "7b3a4e87",
   "metadata": {},
   "source": [
    "## 📢 **Conclusiones finales**"
   ]
  },
  {
   "cell_type": "markdown",
   "id": "7b5405c3",
   "metadata": {},
   "source": []
  }
 ],
 "metadata": {
  "kernelspec": {
   "display_name": "base",
   "language": "python",
   "name": "python3"
  },
  "language_info": {
   "codemirror_mode": {
    "name": "ipython",
    "version": 3
   },
   "file_extension": ".py",
   "mimetype": "text/x-python",
   "name": "python",
   "nbconvert_exporter": "python",
   "pygments_lexer": "ipython3",
   "version": "3.13.5"
  }
 },
 "nbformat": 4,
 "nbformat_minor": 5
}
